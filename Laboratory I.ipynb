{
 "cells": [
  {
   "cell_type": "markdown",
   "metadata": {},
   "source": [
    "# Proyecto I : Regresión Lineal "
   ]
  },
  {
   "cell_type": "markdown",
   "metadata": {},
   "source": [
    "Integrantes:\n",
    "- Aldair Bernal Betancur\n",
    "- Juan José Vera Arango\n"
   ]
  },
  {
   "cell_type": "code",
   "execution_count": 1,
   "metadata": {},
   "outputs": [
    {
     "name": "stdout",
     "output_type": "stream",
     "text": [
      "{'GSR': array([[-0.00660929],\n",
      "       [-0.00660929],\n",
      "       [-0.00660929],\n",
      "       ..., \n",
      "       [-0.0526087 ],\n",
      "       [-0.0526087 ],\n",
      "       [-0.0526087 ]]), 'HR': array([[  764.43494819],\n",
      "       [  636.02893546],\n",
      "       [ 1071.12188151],\n",
      "       ..., \n",
      "       [  607.99773725],\n",
      "       [  477.8104778 ],\n",
      "       [  675.59136235]]), '__header__': 'MATLAB 5.0 MAT-file, Platform: PCWIN64, Created on: Wed Feb 28 11:20:27 2018', '__globals__': [], 'x': array([[  0.00000000e+00,   1.53209744e-04,   3.06419488e-04, ...,\n",
      "          9.99693581e-01,   9.99846790e-01,   1.00000000e+00]]), '__version__': '1.0'}\n"
     ]
    }
   ],
   "source": [
    "import matplotlib.pyplot as plt # Libreria para graficar y visualizar resultados\n",
    "import numpy as np # libreria de manejo de datos matriciales y operaciones multivariadas\n",
    "import math # Libreria de opreaciones matematicas\n",
    "import scipy.io as sio # Libreria para cargar o escribir datos (Se utilizara para cargar nuestros DATASETS)\n",
    "%matplotlib inline \n",
    "\n",
    "data = sio.loadmat('Biosignals.mat')\n",
    "# los datos pueden ser verificados con la funcion print datos a mostrar\n",
    "print data"
   ]
  },
  {
   "cell_type": "code",
   "execution_count": 2,
   "metadata": {},
   "outputs": [],
   "source": [
    "GSR = data['GSR'] #Se accede al campo GSR la cual son los valores de la Respuesta Galvanica de la Piel\n",
    "HR = data['HR'] #Se accede al campo GSR la cual son los valores sobre el Ritmo Cardiaco\n",
    "x = data['x'] #Se accede al campo x donde se encuentran las características del conjunto de entrenamiento\n",
    "x = x.T\n",
    "N, D = x.shape"
   ]
  },
  {
   "cell_type": "markdown",
   "metadata": {},
   "source": [
    "## Analizando GSR"
   ]
  },
  {
   "cell_type": "code",
   "execution_count": 3,
   "metadata": {},
   "outputs": [
    {
     "data": {
      "text/plain": [
       "(4570L, 1L)"
      ]
     },
     "execution_count": 3,
     "metadata": {},
     "output_type": "execute_result"
    },
    {
     "data": {
      "image/png": "[encoded data removed]",
      "text/plain": [
       "<matplotlib.figure.Figure at 0xc2896a0>"
      ]
     },
     "metadata": {},
     "output_type": "display_data"
    }
   ],
   "source": [
    "plt.plot(x,GSR,'or')\n",
    "plt.xlabel('x')\n",
    "plt.legend(('Noise data (t)', 'True data (y)'))\n",
    "\n",
    "id = np.random.permutation(N)\n",
    "perTrain = 0.7\n",
    "NTr = int(round(N*perTrain))\n",
    "idTr = id[:NTr]\n",
    "idTe = id[NTr:]\n",
    "xTr = x[idTr]\n",
    "xTe = x[idTe]\n",
    "GSRTr = GSR[idTr]\n",
    "GSRTe = GSR[idTe]\n",
    "\n",
    "plt.plot(xTr, GSRTr, 'or')\n",
    "plt.xlabel('x')\n",
    "GSRTr.shape"
   ]
  },
  {
   "cell_type": "code",
   "execution_count": 4,
   "metadata": {},
   "outputs": [
    {
     "data": {
      "text/plain": [
       "(1958L, 1L)"
      ]
     },
     "execution_count": 4,
     "metadata": {},
     "output_type": "execute_result"
    },
    {
     "data": {
      "image/png": "[encoded data removed]",
      "text/plain": [
       "<matplotlib.figure.Figure at 0xc27c940>"
      ]
     },
     "metadata": {},
     "output_type": "display_data"
    }
   ],
   "source": [
    "plt.plot(xTe, GSRTe, 'og')\n",
    "plt.xlabel('x')\n",
    "GSRTe.shape"
   ]
  },
  {
   "cell_type": "markdown",
   "metadata": {},
   "source": [
    "## Funcion de regresión lineal y error"
   ]
  },
  {
   "cell_type": "code",
   "execution_count": 5,
   "metadata": {
    "collapsed": true
   },
   "outputs": [],
   "source": [
    "def LS(X,t,basisFNC,NbF):\n",
    "    Ndata,D = X.shape\n",
    "    #print Ndata,D\n",
    "    yEst = np.zeros((Ndata,1))\n",
    "    # Calculo de la matriz PHI de funciones base\n",
    "    PHI = np.zeros((Ndata,NbF+1))\n",
    "    PHI[:,0] = 1\n",
    "    mu = np.random.uniform(0.0, 1.0, NbF+1)\n",
    "    s2 = np.var(mu)\n",
    "    for n in range(0,Ndata):\n",
    "        #print X[n]\n",
    "        for i in range(1,NbF+1):\n",
    "            if basisFNC == 'pol':                \n",
    "                PHI[n][i] = X[n]**(i)\n",
    "            if basisFNC == 'exp':\n",
    "                PHI[n][i] = math.exp(-((X[n]-mu[i])**2)/(2*s2))\n",
    "            if basisFNC == 'sig':\n",
    "                PHI[n][i] = (1 / (1 + np.exp(-((X[n]-mu[i])/math.sqrt(s2)))))\n",
    "    \n",
    "    # Luego se estima el mejor W que maximiza la verosimilitud utilizando minimos cuadrados\n",
    "    PHIT = PHI.T\n",
    "    w_ml = np.linalg.inv(PHIT.dot(PHI)).dot(PHIT.dot(t))\n",
    "    yEst = PHI.dot(w_ml)\n",
    "    #print w_ml\n",
    "    return PHI,w_ml,yEst, s2  \n",
    "\n",
    "def Erms(to, te):\n",
    "    N, d = to.shape\n",
    "    eRMS = np.sqrt((1.0/N)*np.sum((to-te)**2))\n",
    "    return eRMS"
   ]
  },
  {
   "cell_type": "markdown",
   "metadata": {},
   "source": [
    "### Regresion con funciones bases polinomial"
   ]
  },
  {
   "cell_type": "code",
   "execution_count": 6,
   "metadata": {},
   "outputs": [
    {
     "name": "stdout",
     "output_type": "stream",
     "text": [
      "0.0021970924134 0.00215446939023\n"
     ]
    },
    {
     "data": {
      "image/png": "[encoded data removed]",
      "text/plain": [
       "<matplotlib.figure.Figure at 0xc578908>"
      ]
     },
     "metadata": {},
     "output_type": "display_data"
    }
   ],
   "source": [
    "PHIbTr,w_ML,yEstimadoTr, s2 = LS(xTr,GSRTr,'pol',10)\n",
    "PHIbTe,w_MLTe,yEstimadoTe, s2 = LS(xTe,GSRTe,'pol', 10)\n",
    "yEstimadoTe = PHIbTe.dot(w_ML)\n",
    "plt.plot(xTr,yEstimadoTr, 'og')\n",
    "plt.plot(xTe,yEstimadoTe, 'or')\n",
    "plt.plot(x,GSR, '-k')\n",
    "\n",
    "RMStest = Erms(GSRTr, yEstimadoTr)\n",
    "RMStrain = Erms(GSRTe, yEstimadoTe)\n",
    "\n",
    "print RMStest, RMStrain"
   ]
  },
  {
   "cell_type": "markdown",
   "metadata": {},
   "source": [
    "### Regresion con funciones bases exponencial"
   ]
  },
  {
   "cell_type": "code",
   "execution_count": 7,
   "metadata": {},
   "outputs": [
    {
     "name": "stdout",
     "output_type": "stream",
     "text": [
      "0.0022531959247 365.375292918\n"
     ]
    },
    {
     "data": {
      "image/png": "[encoded data removed]",
      "text/plain": [
       "<matplotlib.figure.Figure at 0xc58ea20>"
      ]
     },
     "metadata": {},
     "output_type": "display_data"
    }
   ],
   "source": [
    "PHIbTr,w_ML,yEstimadoTr, s2 = LS(xTr,GSRTr,'exp',10)\n",
    "PHIbTe,w_MLTe,yEstimadoTe, s2 = LS(xTe,GSRTe,'exp',10)\n",
    "yEstimadoTe = PHIbTe.dot(w_ML)\n",
    "plt.plot(xTr,yEstimadoTr, 'og')\n",
    "plt.plot(xTe,yEstimadoTe, 'or')\n",
    "plt.plot(x,GSR, '-k')\n",
    "\n",
    "RMStest = Erms(GSRTr, yEstimadoTr)\n",
    "RMStrain = Erms(GSRTe, yEstimadoTe)\n",
    "\n",
    "print RMStest, RMStrain"
   ]
  },
  {
   "cell_type": "markdown",
   "metadata": {},
   "source": [
    "### Regresion con funciones bases sigmoidal"
   ]
  },
  {
   "cell_type": "code",
   "execution_count": 8,
   "metadata": {},
   "outputs": [
    {
     "name": "stdout",
     "output_type": "stream",
     "text": [
      "0.162437626036 268621.223444\n"
     ]
    },
    {
     "data": {
      "image/png": "[encoded data removed]",
      "text/plain": [
       "<matplotlib.figure.Figure at 0xc32eac8>"
      ]
     },
     "metadata": {},
     "output_type": "display_data"
    }
   ],
   "source": [
    "PHIbTr,w_ML,yEstimadoTr, s2 = LS(xTr,GSRTr,'sig',100)\n",
    "PHIbTe,w_MLTe,yEstimadoTe, s2 = LS(xTe,GSRTe,'sig', 100)\n",
    "yEstimadoTe = PHIbTe.dot(w_ML)\n",
    "plt.plot(xTr,yEstimadoTr, 'og')\n",
    "plt.plot(xTe,yEstimadoTe, 'or')\n",
    "plt.plot(x,GSR, '-k')\n",
    "\n",
    "RMStest = Erms(GSRTr, yEstimadoTr)\n",
    "RMStrain = Erms(GSRTe, yEstimadoTe)\n",
    "\n",
    "print RMStest, RMStrain"
   ]
  },
  {
   "cell_type": "markdown",
   "metadata": {},
   "source": [
    "### Funcion de Regresion lineal con regularización y Error"
   ]
  },
  {
   "cell_type": "code",
   "execution_count": 9,
   "metadata": {
    "collapsed": true
   },
   "outputs": [],
   "source": [
    "def LS_Reg(X,t,basisFNC,NbF,lambdaI):\n",
    "    Ndata,D = X.shape\n",
    "    I = np.eye(NbF+1)\n",
    "    #print Ndata,D\n",
    "    yEst = np.zeros((Ndata,1))\n",
    "    # Calculo de la matriz PHI de funciones base\n",
    "    PHI = np.zeros((Ndata,NbF+1))\n",
    "    PHI[:,0] = 1\n",
    "    mu = np.random.uniform(0.0, 1.0, NbF+1)\n",
    "    s2 = np.var(mu)\n",
    "    for n in range(0,Ndata):\n",
    "        #print X[n]\n",
    "        for i in range(1,NbF+1):\n",
    "            if basisFNC == 'pol':                \n",
    "                PHI[n][i] = X[n]**(i)\n",
    "            if basisFNC == 'exp':\n",
    "                PHI[n][i] = math.exp(-((X[n]-mu[i])**2)/(2*s2))\n",
    "            if basisFNC == 'sig':\n",
    "                PHI[n][i] = (1 / (1 + np.exp(-((X[n]-mu[i])/math.sqrt(s2)))))\n",
    "# Luego se estima el mejor W que maximiza la verosimilitud utilizando minimos cuadrados\n",
    "    PHIT = PHI.T\n",
    "    w_ml = np.linalg.inv(lambdaI*I+PHIT.dot(PHI)).dot(PHIT.dot(t))\n",
    "    yEst = PHI.dot(w_ml)\n",
    "    #print w_ml\n",
    "    return PHI,w_ml,yEst\n",
    "\n",
    "def Erms(to, te):\n",
    "    N, d = to.shape\n",
    "    eRMS = np.sqrt((1.0/N)*np.sum((to-te)**2))\n",
    "    return eRMS"
   ]
  },
  {
   "cell_type": "markdown",
   "metadata": {},
   "source": [
    "### Regresion con regularización con funciones bases polinomial"
   ]
  },
  {
   "cell_type": "code",
   "execution_count": 10,
   "metadata": {},
   "outputs": [
    {
     "name": "stdout",
     "output_type": "stream",
     "text": [
      "0.00204691635284 0.00200173075852\n"
     ]
    },
    {
     "data": {
      "image/png": "[encoded data removed]",
      "text/plain": [
       "<matplotlib.figure.Figure at 0xc5555c0>"
      ]
     },
     "metadata": {},
     "output_type": "display_data"
    }
   ],
   "source": [
    "\n",
    "lambdaI = math.exp(-18.0)\n",
    "PHIbTr,w_MLReg,yEstimadoTr = LS_Reg(xTr,GSRTr,'pol',100, lambdaI)\n",
    "PHIbTe,w_MLRegTe,yEstimadoTe = LS_Reg(xTe,GSRTe,'pol',100, lambdaI)\n",
    "yEstimadoTe = PHIbTe.dot(w_MLReg)\n",
    "plt.plot(xTr,yEstimadoTr, 'og')\n",
    "plt.plot(xTe,yEstimadoTe, 'or')\n",
    "plt.plot(x,GSR, '-k')\n",
    "\n",
    "RMStest = Erms(GSRTr, yEstimadoTr)\n",
    "RMStrain = Erms(GSRTe, yEstimadoTe)\n",
    "\n",
    "print RMStest, RMStrain"
   ]
  },
  {
   "cell_type": "markdown",
   "metadata": {},
   "source": [
    "### Regresión con regularización con funciones exponenciales"
   ]
  },
  {
   "cell_type": "code",
   "execution_count": 11,
   "metadata": {},
   "outputs": [
    {
     "name": "stdout",
     "output_type": "stream",
     "text": [
      "0.00220675365089 19.3935931538\n"
     ]
    },
    {
     "data": {
      "image/png": "[encoded data removed]",
      "text/plain": [
       "<matplotlib.figure.Figure at 0xc555c18>"
      ]
     },
     "metadata": {},
     "output_type": "display_data"
    }
   ],
   "source": [
    "lambdaI = math.exp(-18.0)\n",
    "PHIbTr,w_MLReg,yEstimadoTr = LS_Reg(xTr,GSRTr,'exp',100, lambdaI)\n",
    "PHIbTe,w_MLRegTe,yEstimadoTe = LS_Reg(xTe,GSRTe,'exp',100, lambdaI)\n",
    "yEstimadoTe = PHIbTe.dot(w_MLReg)\n",
    "plt.plot(xTr,yEstimadoTr, 'og')\n",
    "plt.plot(xTe,yEstimadoTe, 'or')\n",
    "plt.plot(x,GSR, '-k')\n",
    "\n",
    "RMStest = Erms(GSRTr, yEstimadoTr)\n",
    "RMStrain = Erms(GSRTe, yEstimadoTe)\n",
    "\n",
    "print RMStest, RMStrain\n",
    "\n"
   ]
  },
  {
   "cell_type": "markdown",
   "metadata": {},
   "source": [
    "### Regresión con regularización con funciones sigmoidales"
   ]
  },
  {
   "cell_type": "code",
   "execution_count": 12,
   "metadata": {},
   "outputs": [
    {
     "name": "stdout",
     "output_type": "stream",
     "text": [
      "0.00876260896362 0.105495673463\n"
     ]
    },
    {
     "data": {
      "image/png": "[encoded data removed]",
      "text/plain": [
       "<matplotlib.figure.Figure at 0xce74080>"
      ]
     },
     "metadata": {},
     "output_type": "display_data"
    }
   ],
   "source": [
    "lambdaI = math.exp(-2.0)\n",
    "PHIbTr,w_MLReg,yEstimadoTr = LS_Reg(xTr,GSRTr,'sig',150, lambdaI)\n",
    "PHIbTe,w_MLRegTe,yEstimadoTe = LS_Reg(xTe,GSRTe,'sig',150, lambdaI)\n",
    "yEstimadoTe = PHIbTe.dot(w_MLReg)\n",
    "plt.plot(xTr,yEstimadoTr, 'og')\n",
    "plt.plot(xTe,yEstimadoTe, 'or')\n",
    "plt.plot(x,GSR, '-k')\n",
    "\n",
    "RMStest = Erms(GSRTr, yEstimadoTr)\n",
    "RMStrain = Erms(GSRTe, yEstimadoTe)\n",
    "\n",
    "print RMStest, RMStrain\n"
   ]
  },
  {
   "cell_type": "markdown",
   "metadata": {},
   "source": [
    "## Regresion Bayesiana"
   ]
  },
  {
   "cell_type": "markdown",
   "metadata": {},
   "source": [
    "### Regresión bayesiana con funciones base polinomial"
   ]
  },
  {
   "cell_type": "code",
   "execution_count": 14,
   "metadata": {},
   "outputs": [
    {
     "name": "stdout",
     "output_type": "stream",
     "text": [
      "(4570L, 100L)\n",
      "(100L, 1L) (100L, 100L)\n"
     ]
    },
    {
     "data": {
      "text/plain": [
       "[<matplotlib.lines.Line2D at 0xc7cfa20>]"
      ]
     },
     "execution_count": 14,
     "metadata": {},
     "output_type": "execute_result"
    },
    {
     "data": {
      "image/png": "[encoded data removed]",
      "text/plain": [
       "<matplotlib.figure.Figure at 0xd117630>"
      ]
     },
     "metadata": {},
     "output_type": "display_data"
    }
   ],
   "source": [
    "M = 100 # numero de funciones base\n",
    "PHI,w_MLReg,yEstimadoTr, s2 = LS(xTr,GSRTr,'pol',M-1)\n",
    "print PHI.shape\n",
    "\n",
    "iT = 100 # Numero de iteraciones\n",
    "alpha = 0.0\n",
    "beta = 0.5\n",
    "invbeta = 1/beta\n",
    "PHIT = PHI.T\n",
    "invSn = alpha*np.eye(M)+ beta*PHIT.dot(PHI)\n",
    "Sn = np.linalg.inv(invSn)\n",
    "mn = beta*Sn.dot(PHIT.dot(GSRTr))\n",
    "print mn.shape,Sn.shape\n",
    "\n",
    "# Probemos la estimacion con el mn inicial\n",
    "yEst = PHI.dot(mn)\n",
    "lambdaIp,vecI = np.linalg.eig(PHIT.dot(PHI))\n",
    "lambdaI = beta*lambdaIp\n",
    "for j in range(0,iT):\n",
    "    gamma = np.sum(lambdaI/(alpha*np.ones(lambdaI.shape)+lambdaI))\n",
    "    alpha = gamma/((mn.T).dot(mn))\n",
    "    invbeta = (1/(N-gamma))*(((GSRTr-PHI.dot(mn)).T).dot(GSRTr-PHI.dot(mn)))\n",
    "    beta = 1/invbeta\n",
    "    lambdaI = beta*lambdaIp\n",
    "    invSn = alpha*np.eye(M)+ beta*PHIT.dot(PHI)\n",
    "    Sn = np.linalg.inv(invSn)\n",
    "    mn = beta*Sn.dot(PHIT.dot(GSRTr))\n",
    "    \n",
    "#print invSn \n",
    "yEstfin = PHI.dot(mn)\n",
    "plt.plot(xTr,GSRTr,'or')\n",
    "plt.plot(xTr,yEstfin,'ok')\n"
   ]
  },
  {
   "cell_type": "markdown",
   "metadata": {},
   "source": [
    "### Regresión bayesiana con funciones base exponencial"
   ]
  },
  {
   "cell_type": "code",
   "execution_count": 15,
   "metadata": {},
   "outputs": [
    {
     "name": "stdout",
     "output_type": "stream",
     "text": [
      "(4570L, 100L)\n",
      "(100L, 1L) (100L, 100L)\n"
     ]
    },
    {
     "data": {
      "text/plain": [
       "[<matplotlib.lines.Line2D at 0x1076b400>]"
      ]
     },
     "execution_count": 15,
     "metadata": {},
     "output_type": "execute_result"
    },
    {
     "data": {
      "image/png": "[encoded data removed]",
      "text/plain": [
       "<matplotlib.figure.Figure at 0xcaa9828>"
      ]
     },
     "metadata": {},
     "output_type": "display_data"
    }
   ],
   "source": [
    "M = 100 # numero de funciones base\n",
    "PHI,w_MLReg,yEstimadoTr, s2 = LS(xTr,GSRTr,'exp',M-1)\n",
    "print PHI.shape\n",
    "\n",
    "iT = 100 # Numero de iteraciones\n",
    "alpha = 0.0\n",
    "beta = 0.5\n",
    "invbeta = 1/beta\n",
    "PHIT = PHI.T\n",
    "invSn = alpha*np.eye(M)+ beta*PHIT.dot(PHI)\n",
    "Sn = np.linalg.inv(invSn)\n",
    "mn = beta*Sn.dot(PHIT.dot(GSRTr))\n",
    "print mn.shape,Sn.shape\n",
    "\n",
    "# Probemos la estimacion con el mn inicial\n",
    "yEst = PHI.dot(mn)\n",
    "lambdaIp,vecI = np.linalg.eig(PHIT.dot(PHI))\n",
    "lambdaI = beta*lambdaIp\n",
    "for j in range(0,iT):\n",
    "    gamma = np.sum(lambdaI/(alpha*np.ones(lambdaI.shape)+lambdaI))\n",
    "    alpha = gamma/((mn.T).dot(mn))\n",
    "    invbeta = (1/(N-gamma))*(((GSRTr-PHI.dot(mn)).T).dot(GSRTr-PHI.dot(mn)))\n",
    "    beta = 1/invbeta\n",
    "    lambdaI = beta*lambdaIp\n",
    "    invSn = alpha*np.eye(M)+ beta*PHIT.dot(PHI)\n",
    "    Sn = np.linalg.inv(invSn)\n",
    "    mn = beta*Sn.dot(PHIT.dot(GSRTr))\n",
    "    \n",
    "#print invSn \n",
    "yEstfin = PHI.dot(mn)\n",
    "plt.plot(xTr,GSRTr,'or')\n",
    "plt.plot(xTr,yEstfin,'ok')\n"
   ]
  },
  {
   "cell_type": "markdown",
   "metadata": {},
   "source": [
    "### Regresión bayesiana con funciones base sigmoidal"
   ]
  },
  {
   "cell_type": "code",
   "execution_count": 16,
   "metadata": {},
   "outputs": [
    {
     "name": "stdout",
     "output_type": "stream",
     "text": [
      "(4570L, 100L)\n",
      "(100L, 1L) (100L, 100L)\n"
     ]
    },
    {
     "data": {
      "text/plain": [
       "[<matplotlib.lines.Line2D at 0xc497390>]"
      ]
     },
     "execution_count": 16,
     "metadata": {},
     "output_type": "execute_result"
    },
    {
     "data": {
      "image/png": "[encoded data removed]",
      "text/plain": [
       "<matplotlib.figure.Figure at 0x10c2b160>"
      ]
     },
     "metadata": {},
     "output_type": "display_data"
    }
   ],
   "source": [
    "M = 100 # numero de funciones base\n",
    "PHI,w_MLReg,yEstimadoTr, s2 = LS(xTr,GSRTr,'sig',M-1)\n",
    "print PHI.shape\n",
    "\n",
    "iT = 100 # Numero de iteraciones\n",
    "alpha = 0.0\n",
    "beta = 0.5\n",
    "invbeta = 1/beta\n",
    "PHIT = PHI.T\n",
    "invSn = alpha*np.eye(M)+ beta*PHIT.dot(PHI)\n",
    "Sn = np.linalg.inv(invSn)\n",
    "mn = beta*Sn.dot(PHIT.dot(GSRTr))\n",
    "print mn.shape,Sn.shape\n",
    "\n",
    "# Probemos la estimacion con el mn inicial\n",
    "yEst = PHI.dot(mn)\n",
    "lambdaIp,vecI = np.linalg.eig(PHIT.dot(PHI))\n",
    "lambdaI = beta*lambdaIp\n",
    "for j in range(0,iT):\n",
    "    gamma = np.sum(lambdaI/(alpha*np.ones(lambdaI.shape)+lambdaI))\n",
    "    alpha = gamma/((mn.T).dot(mn))\n",
    "    invbeta = (1/(N-gamma))*(((GSRTr-PHI.dot(mn)).T).dot(GSRTr-PHI.dot(mn)))\n",
    "    beta = 1/invbeta\n",
    "    lambdaI = beta*lambdaIp\n",
    "    invSn = alpha*np.eye(M)+ beta*PHIT.dot(PHI)\n",
    "    Sn = np.linalg.inv(invSn)\n",
    "    mn = beta*Sn.dot(PHIT.dot(GSRTr))\n",
    "    \n",
    "#print invSn \n",
    "yEstfin = PHI.dot(mn)\n",
    "plt.plot(xTr,GSRTr,'or')\n",
    "plt.plot(xTr,yEstfin,'ok')\n"
   ]
  },
  {
   "cell_type": "markdown",
   "metadata": {},
   "source": [
    "## Analizando HR"
   ]
  },
  {
   "cell_type": "code",
   "execution_count": null,
   "metadata": {
    "collapsed": true
   },
   "outputs": [],
   "source": []
  }
 ],
 "metadata": {
  "kernelspec": {
   "display_name": "Python 2",
   "language": "python",
   "name": "python2"
  },
  "language_info": {
   "codemirror_mode": {
    "name": "ipython",
    "version": 2
   },
   "file_extension": ".py",
   "mimetype": "text/x-python",
   "name": "python",
   "nbconvert_exporter": "python",
   "pygments_lexer": "ipython2",
   "version": "2.7.14"
  }
 },
 "nbformat": 4,
 "nbformat_minor": 2
}
