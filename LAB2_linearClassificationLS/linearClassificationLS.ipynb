{
 "cells": [
  {
   "cell_type": "markdown",
   "metadata": {},
   "source": [
    "#  Least Squares Classifier"
   ]
  },
  {
   "cell_type": "code",
   "execution_count": 33,
   "metadata": {
    "collapsed": true
   },
   "outputs": [],
   "source": [
    "import matplotlib.pyplot as plt\n",
    "import numpy as np\n",
    "import math\n",
    "import scipy.io as sio\n",
    "%matplotlib inline "
   ]
  },
  {
   "cell_type": "code",
   "execution_count": 34,
   "metadata": {
    "collapsed": false
   },
   "outputs": [],
   "source": [
    "data = sio.loadmat('dataFI.mat')\n",
    "#data.viewitems()"
   ]
  },
  {
   "cell_type": "code",
   "execution_count": 50,
   "metadata": {
    "collapsed": false
   },
   "outputs": [
    {
     "name": "stdout",
     "output_type": "stream",
     "text": [
      "[[1 0]\n",
      " [1 0]\n",
      " [1 0]\n",
      " [1 0]\n",
      " [1 0]\n",
      " [1 0]\n",
      " [1 0]\n",
      " [1 0]\n",
      " [1 0]\n",
      " [1 0]\n",
      " [1 0]\n",
      " [1 0]\n",
      " [1 0]\n",
      " [1 0]\n",
      " [1 0]\n",
      " [1 0]\n",
      " [1 0]\n",
      " [1 0]\n",
      " [1 0]\n",
      " [1 0]\n",
      " [1 0]\n",
      " [1 0]\n",
      " [1 0]\n",
      " [1 0]\n",
      " [1 0]\n",
      " [1 0]\n",
      " [1 0]\n",
      " [1 0]\n",
      " [1 0]\n",
      " [1 0]\n",
      " [1 0]\n",
      " [1 0]\n",
      " [1 0]\n",
      " [1 0]\n",
      " [1 0]\n",
      " [1 0]\n",
      " [1 0]\n",
      " [1 0]\n",
      " [1 0]\n",
      " [1 0]\n",
      " [1 0]\n",
      " [1 0]\n",
      " [1 0]\n",
      " [1 0]\n",
      " [1 0]\n",
      " [1 0]\n",
      " [1 0]\n",
      " [1 0]\n",
      " [1 0]\n",
      " [1 0]\n",
      " [0 1]\n",
      " [0 1]\n",
      " [0 1]\n",
      " [0 1]\n",
      " [0 1]\n",
      " [0 1]\n",
      " [0 1]\n",
      " [0 1]\n",
      " [0 1]\n",
      " [0 1]\n",
      " [0 1]\n",
      " [0 1]\n",
      " [0 1]\n",
      " [0 1]\n",
      " [0 1]\n",
      " [0 1]\n",
      " [0 1]\n",
      " [0 1]\n",
      " [0 1]\n",
      " [0 1]\n",
      " [0 1]\n",
      " [0 1]\n",
      " [0 1]\n",
      " [0 1]\n",
      " [0 1]\n",
      " [0 1]\n",
      " [0 1]\n",
      " [0 1]\n",
      " [0 1]\n",
      " [0 1]\n",
      " [0 1]\n",
      " [0 1]\n",
      " [0 1]\n",
      " [0 1]\n",
      " [0 1]\n",
      " [0 1]\n",
      " [0 1]\n",
      " [0 1]\n",
      " [0 1]\n",
      " [0 1]\n",
      " [0 1]\n",
      " [0 1]\n",
      " [0 1]\n",
      " [0 1]\n",
      " [0 1]\n",
      " [0 1]\n",
      " [0 1]\n",
      " [0 1]\n",
      " [0 1]\n",
      " [0 1]]\n",
      "(100L, 2L) (100L, 4L)\n"
     ]
    },
    {
     "data": {
      "image/png": "[encoded data removed]",
      "text/plain": [
       "<matplotlib.figure.Figure at 0xbeae518>"
      ]
     },
     "metadata": {},
     "output_type": "display_data"
    }
   ],
   "source": [
    "#X = data.values()[0]\n",
    "#T = data.values()[3]\n",
    "X = data['X']\n",
    "X = X[0:100,:]\n",
    "T = data['T']\n",
    "T = T[0:100,0:2]\n",
    "print T\n",
    "\n",
    "print T.shape,X.shape\n",
    "plt.plot(X[0:49,0],X[0:49,1],'or')\n",
    "plt.plot(X[50:100,0],X[50:100,1],'db')\n",
    "#plt.plot(X[101:150,0],X[101:150,1],'sg')\n",
    "plt.legend(('Clase 1','Clase 2','Clase 3'))\n",
    "Xamp = np.append(np.ones((100,1)),X,axis = 1)\n"
   ]
  },
  {
   "cell_type": "code",
   "execution_count": 51,
   "metadata": {
    "collapsed": false
   },
   "outputs": [
    {
     "name": "stdout",
     "output_type": "stream",
     "text": [
      "[[ 0.63029658  0.36970342]\n",
      " [ 0.02848968 -0.02848968]\n",
      " [ 0.16819751 -0.16819751]\n",
      " [-0.20313089  0.20313089]\n",
      " [-0.28785017  0.28785017]]\n"
     ]
    }
   ],
   "source": [
    "Xt = Xamp.T\n",
    "pinvX = np.linalg.inv(Xt.dot(Xamp))\n",
    "Wmse = pinvX.dot(Xt.dot(T))\n",
    "print Wmse"
   ]
  },
  {
   "cell_type": "code",
   "execution_count": 52,
   "metadata": {
    "collapsed": false
   },
   "outputs": [
    {
     "name": "stdout",
     "output_type": "stream",
     "text": [
      "(5L, 100L)\n",
      "(5L, 2L)\n",
      "[[  1.02233196e+00  -2.23319649e-02]\n",
      " [  9.32535272e-01   6.74647284e-02]\n",
      " [  9.80789928e-01   1.92100724e-02]\n",
      " [  9.20495029e-01   7.95049706e-02]\n",
      " [  1.03630275e+00  -3.63027482e-02]\n",
      " [  9.79648573e-01   2.03514267e-02]\n",
      " [  9.62482356e-01   3.75176438e-02]\n",
      " [  9.82350156e-01   1.76498440e-02]\n",
      " [  9.01470680e-01   9.85293203e-02]\n",
      " [  9.57826950e-01   4.21730496e-02]\n",
      " [  1.04420528e+00  -4.42052827e-02]\n",
      " [  9.56339130e-01   4.36608695e-02]\n",
      " [  9.58471320e-01   4.15286797e-02]\n",
      " [  1.00516575e+00  -5.16574780e-03]\n",
      " [  1.16699968e+00  -1.66999677e-01]\n",
      " [  1.11292041e+00  -1.12920413e-01]\n",
      " [  1.06090093e+00  -6.09009307e-02]\n",
      " [  9.93546948e-01   6.45305184e-03]\n",
      " [  1.00016074e+00  -1.60742950e-04]\n",
      " [  1.02369311e+00  -2.36931130e-02]\n",
      " [  9.53119850e-01   4.68801503e-02]\n",
      " [  9.78088345e-01   2.19116551e-02]\n",
      " [  1.10615923e+00  -1.06159233e-01]\n",
      " [  8.41398144e-01   1.58601856e-01]\n",
      " [  8.95399862e-01   1.04600138e-01]\n",
      " [  8.94758061e-01   1.05241939e-01]\n",
      " [  9.04467033e-01   9.55329668e-02]\n",
      " [  1.00486784e+00  -4.86784364e-03]\n",
      " [  1.00836118e+00  -8.36118158e-03]\n",
      " [  9.19850660e-01   8.01493404e-02]\n",
      " [  9.05879876e-01   9.41201237e-02]\n",
      " [  9.36175995e-01   6.38240050e-02]\n",
      " [  1.13457137e+00  -1.34571369e-01]\n",
      " [  1.15146610e+00  -1.51466097e-01]\n",
      " [  9.29041934e-01   7.09580663e-02]\n",
      " [  1.00964992e+00  -9.64992125e-03]\n",
      " [  1.05404093e+00  -5.40409266e-02]\n",
      " [  1.06223880e+00  -6.22387968e-02]\n",
      " [  9.38603520e-01   6.13964795e-02]\n",
      " [  9.85199124e-01   1.48008759e-02]\n",
      " [  1.01101107e+00  -1.10110694e-02]\n",
      " [  7.94929212e-01   2.05070788e-01]\n",
      " [  9.72243023e-01   2.77569767e-02]\n",
      " [  8.63716751e-01   1.36283249e-01]\n",
      " [  9.13655739e-01   8.63442611e-02]\n",
      " [  9.00901287e-01   9.90987132e-02]\n",
      " [  1.03216504e+00  -3.21650404e-02]\n",
      " [  9.57627870e-01   4.23721298e-02]\n",
      " [  1.04135631e+00  -4.13563146e-02]\n",
      " [  9.85843494e-01   1.41565060e-02]\n",
      " [  1.02509554e-02   9.89749045e-01]\n",
      " [  4.99830874e-03   9.95001691e-01]\n",
      " [ -7.88289595e-02   1.07882896e+00]\n",
      " [ -1.28846867e-02   1.01288469e+00]\n",
      " [ -7.97448181e-02   1.07974482e+00]\n",
      " [ -2.46534401e-02   1.02465344e+00]\n",
      " [ -5.04421034e-02   1.05044210e+00]\n",
      " [  2.15387932e-01   7.84612068e-01]\n",
      " [ -2.50606517e-03   1.00250607e+00]\n",
      " [  3.73754873e-02   9.62624513e-01]\n",
      " [  1.10331716e-01   8.89668284e-01]\n",
      " [  1.80532335e-02   9.81946767e-01]\n",
      " [  7.08954526e-02   9.29104547e-01]\n",
      " [ -6.58490118e-02   1.06584901e+00]\n",
      " [  1.72135147e-01   8.27864853e-01]\n",
      " [  4.58235677e-02   9.54176432e-01]\n",
      " [ -5.14329389e-02   1.05143294e+00]\n",
      " [  1.28983184e-01   8.71016816e-01]\n",
      " [ -1.68897142e-01   1.16889714e+00]\n",
      " [  1.01486907e-01   8.98513093e-01]\n",
      " [ -1.56540850e-01   1.15654085e+00]\n",
      " [  8.83078790e-02   9.11692121e-01]\n",
      " [ -1.96841277e-01   1.19684128e+00]\n",
      " [ -2.50987297e-02   1.02509873e+00]\n",
      " [  5.27352667e-02   9.47264733e-01]\n",
      " [  2.61548482e-02   9.73845152e-01]\n",
      " [ -8.30390758e-02   1.08303908e+00]\n",
      " [ -1.79229770e-01   1.17922977e+00]\n",
      " [ -5.68568179e-02   1.05685682e+00]\n",
      " [  2.31193001e-01   7.68806999e-01]\n",
      " [  1.02131277e-01   8.97868723e-01]\n",
      " [  1.51229383e-01   8.48770617e-01]\n",
      " [  1.12039329e-01   8.87960671e-01]\n",
      " [ -2.41159874e-01   1.24115987e+00]\n",
      " [ -5.71308751e-02   1.05713088e+00]\n",
      " [ -1.54307757e-03   1.00154308e+00]\n",
      " [ -4.39007171e-02   1.04390072e+00]\n",
      " [ -7.13452992e-02   1.07134530e+00]\n",
      " [  8.73894520e-02   9.12610548e-01]\n",
      " [  2.07548162e-02   9.79245184e-01]\n",
      " [ -1.48927731e-02   1.01489277e+00]\n",
      " [ -2.87161710e-02   1.02871617e+00]\n",
      " [  7.49064886e-02   9.25093511e-01]\n",
      " [  2.01417148e-01   7.98582852e-01]\n",
      " [  1.66171084e-02   9.83382892e-01]\n",
      " [  9.87103474e-02   9.01289653e-01]\n",
      " [  5.31055793e-02   9.46894421e-01]\n",
      " [  4.70373305e-02   9.52962670e-01]\n",
      " [  2.70059871e-01   7.29940129e-01]\n",
      " [  5.65989172e-02   9.43401083e-01]]\n"
     ]
    }
   ],
   "source": [
    "print Xt.shape\n",
    "print Wmse.shape\n",
    "aux = Wmse.T\n",
    "yEst = aux.dot(Xt)\n",
    "yEst = yEst.T\n",
    "print yEst\n",
    "\n",
    "\n",
    "#yEst = np.multiply(Wmse.transpose(),Xamp)"
   ]
  },
  {
   "cell_type": "code",
   "execution_count": 16,
   "metadata": {
    "collapsed": true
   },
   "outputs": [],
   "source": []
  },
  {
   "cell_type": "code",
   "execution_count": 53,
   "metadata": {
    "collapsed": false
   },
   "outputs": [
    {
     "name": "stdout",
     "output_type": "stream",
     "text": [
      "[1 1 1 1 1 1 1 1 1 1 1 1 1 1 1 1 1 1 1 1 1 1 1 1 1 1 1 1 1 1 1 1 1 1 1 1 1\n",
      " 1 1 1 1 1 1 1 1 1 1 1 1 1 2 2 2 2 2 2 2 2 2 2 2 2 2 2 2 2 2 2 2 2 2 2 2 2\n",
      " 2 2 2 2 2 2 2 2 2 2 2 2 2 2 2 2 2 2 2 2 2 2 2 2 2 2] [1 1 1 1 1 1 1 1 1 1 1 1 1 1 1 1 1 1 1 1 1 1 1 1 1 1 1 1 1 1 1 1 1 1 1 1 1\n",
      " 1 1 1 1 1 1 1 1 1 1 1 1 1 2 2 2 2 2 2 2 2 2 2 2 2 2 2 2 2 2 2 2 2 2 2 2 2\n",
      " 2 2 2 2 2 2 2 2 2 2 2 2 2 2 2 2 2 2 2 2 2 2 2 2 2 2]\n"
     ]
    }
   ],
   "source": [
    "tEst = np.argmax(yEst,1)+1\n",
    "tReal = np.argmax(T,1)+1\n",
    "print tEst,tReal\n"
   ]
  },
  {
   "cell_type": "code",
   "execution_count": null,
   "metadata": {
    "collapsed": true
   },
   "outputs": [],
   "source": []
  }
 ],
 "metadata": {
  "kernelspec": {
   "display_name": "Python 2",
   "language": "python",
   "name": "python2"
  },
  "language_info": {
   "codemirror_mode": {
    "name": "ipython",
    "version": 2
   },
   "file_extension": ".py",
   "mimetype": "text/x-python",
   "name": "python",
   "nbconvert_exporter": "python",
   "pygments_lexer": "ipython2",
   "version": "2.7.13"
  }
 },
 "nbformat": 4,
 "nbformat_minor": 0
}
