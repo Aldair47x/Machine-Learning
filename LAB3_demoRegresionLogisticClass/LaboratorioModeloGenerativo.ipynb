{
 "cells": [
  {
   "cell_type": "markdown",
   "metadata": {},
   "source": [
    "# Modelo Generativo"
   ]
  },
  {
   "cell_type": "code",
   "execution_count": 25,
   "metadata": {
    "collapsed": true
   },
   "outputs": [],
   "source": [
    "import scipy.io as sio\n",
    "import numpy.matlib as mat\n",
    "import numpy as np\n",
    "from matplotlib import pyplot as plt\n",
    "%matplotlib inline"
   ]
  },
  {
   "cell_type": "code",
   "execution_count": 26,
   "metadata": {
    "collapsed": false
   },
   "outputs": [
    {
     "name": "stdout",
     "output_type": "stream",
     "text": [
      "(150L, 1L) (150L, 4L)\n"
     ]
    },
    {
     "data": {
      "image/png": "[encoded data removed]",
      "text/plain": [
       "<matplotlib.figure.Figure at 0xb215240>"
      ]
     },
     "metadata": {},
     "output_type": "display_data"
    }
   ],
   "source": [
    "data = sio.loadmat('fisheriris.mat')\n",
    "X = data['meas']\n",
    "T = np.concatenate((np.array(mat.repmat([0],50,1)),np.array(mat.repmat([1],50,1)),np.array(mat.repmat([2],50,1))),axis = 0)\n",
    "targets = np.ravel(T)\n",
    "print T.shape,X.shape\n",
    "plt.plot(X[0:50,0],X[0:50,1],'o')\n",
    "plt.plot(X[50:100,0],X[50:100,1],'+')\n",
    "plt.plot(X[100:150,0],X[100:150,1],'^')\n",
    "\n",
    "plt.legend({'Setosa','Versicolor','Virginica'})\n",
    "plt.show()\n",
    "\n",
    "#print T"
   ]
  },
  {
   "cell_type": "code",
   "execution_count": 27,
   "metadata": {
    "collapsed": false
   },
   "outputs": [
    {
     "name": "stdout",
     "output_type": "stream",
     "text": [
      "50 50 50\n",
      "wk =  [[ 24.02465992  16.01858069  12.69984591]\n",
      " [ 24.06925561   7.21684677   3.7604894 ]\n",
      " [-16.76595819   5.31780708  13.02708671]\n",
      " [-17.75348039   6.56554     21.50929899]]\n",
      "Porcentaje de acierto acc =  0.98 %\n"
     ]
    }
   ],
   "source": [
    "# Mu y sigma K=1\n",
    "X2 = X[50:100,:]\n",
    "mu_2 = np.mean(X2,axis=0)\n",
    "N2 = len(X2)\n",
    "Mu2 = mat.repmat(mu_2,N2,1)\n",
    "aux = (X2-Mu2)\n",
    "S2 = (1./N2)*(aux.T).dot(aux)\n",
    "\n",
    "# Mu y sigma K=3\n",
    "X3 = X[100:150,:]\n",
    "mu_3 = np.mean(X3,axis=0)\n",
    "N3 = len(X3)\n",
    "Mu3 = mat.repmat(mu_3,N3,1)\n",
    "aux = (X3-Mu3)\n",
    "S3 = (1./N3)*(aux.T).dot(aux)\n",
    "\n",
    "# Mu y sigma K=1\n",
    "X1 = X[0:50,:]\n",
    "mu_1 = np.mean(X1,axis=0)\n",
    "N1 = len(X1)\n",
    "Mu1 = mat.repmat(mu_1,N1,1)\n",
    "aux = (X1-Mu1)\n",
    "S1 = (1./N1)*(aux.T).dot(aux)\n",
    "print N1,N2,N3\n",
    "pi1 = N1/float(N1+N2+N3)\n",
    "pi2 = N2/float(N1+N2+N3)\n",
    "pi3 = N3/float(N1+N2+N3)\n",
    "\n",
    "# Sigma\n",
    "\n",
    "Sigma = pi1*S1 + pi2*S2 + pi3*S3\n",
    "\n",
    "# Se calculan los w_k\n",
    "muK = np.concatenate((mu_1,mu_2,mu_3)).reshape(3,4).T\n",
    "#print muK.shape\n",
    "invSigma = np.linalg.inv(Sigma)\n",
    "wk = invSigma.dot(muK)\n",
    "print 'wk = ',wk\n",
    "# para wk0\n",
    "wk0_1 = -0.5*mu_1.T.dot(invSigma.dot(mu_1))+np.log(pi1)\n",
    "wk0_2 = -0.5*mu_2.T.dot(invSigma.dot(mu_2))+np.log(pi2)\n",
    "wk0_3 = -0.5*mu_3.T.dot(invSigma.dot(mu_3))+np.log(pi3)\n",
    "wk0 = [wk0_1,wk0_2,wk0_3]\n",
    "\n",
    "# ak\n",
    "#Wk0 = mat.repmat(wk0,len(X),1)\n",
    "ak = X.dot(wk)+mat.repmat(wk0,len(X),1)\n",
    "\n",
    "# Softmax\n",
    "N,K = ak.shape\n",
    "#print N,K\n",
    "yEst = np.zeros((N,K))\n",
    "for i in range(0, K):\n",
    "    yEst[:,i] = np.exp(ak[:,i])/np.sum(np.exp(ak),axis=1)\n",
    "kEst = np.argmax(yEst,axis=1)\n",
    "\n",
    "#print kEst\n",
    "error = (kEst-np.ravel(T))\n",
    "error[error!=0] = 1\n",
    "\n",
    "perError = np.sum(error)/float(N)\n",
    "print 'Porcentaje de acierto acc = ',1-perError,'%'"
   ]
  }
 ],
 "metadata": {
  "kernelspec": {
   "display_name": "Python 2",
   "language": "python",
   "name": "python2"
  },
  "language_info": {
   "codemirror_mode": {
    "name": "ipython",
    "version": 2
   },
   "file_extension": ".py",
   "mimetype": "text/x-python",
   "name": "python",
   "nbconvert_exporter": "python",
   "pygments_lexer": "ipython2",
   "version": "2.7.13"
  }
 },
 "nbformat": 4,
 "nbformat_minor": 0
}
