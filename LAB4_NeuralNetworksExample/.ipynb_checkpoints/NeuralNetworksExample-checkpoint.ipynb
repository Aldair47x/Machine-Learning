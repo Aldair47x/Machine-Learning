{
 "cells": [
  {
   "cell_type": "markdown",
   "metadata": {},
   "source": [
    "# Neural Network Classification Example"
   ]
  },
  {
   "cell_type": "code",
   "execution_count": 1,
   "metadata": {},
   "outputs": [],
   "source": [
    "from sklearn.neural_network import MLPClassifier\n",
    "import scipy.io as sio\n",
    "import numpy.matlib as mat\n",
    "import numpy as np\n",
    "from matplotlib import pyplot as plt\n",
    "%matplotlib inline"
   ]
  },
  {
   "cell_type": "code",
   "execution_count": 2,
   "metadata": {},
   "outputs": [
    {
     "name": "stdout",
     "output_type": "stream",
     "text": [
      "(150L,) (150L, 4L)\n"
     ]
    }
   ],
   "source": [
    "data = sio.loadmat('fisheriris.mat')\n",
    "X = data['meas']\n",
    "T = np.concatenate((np.array(mat.repmat([0],50,1)),np.array(mat.repmat([1],50,1)),np.array(mat.repmat([2],50,1))),axis = 0)\n",
    "targets = np.ravel(T)\n",
    "print targets.shape,X.shape"
   ]
  },
  {
   "cell_type": "code",
   "execution_count": 3,
   "metadata": {},
   "outputs": [
    {
     "name": "stdout",
     "output_type": "stream",
     "text": [
      "[array([[ -0.09322043,  -6.06517081,  -0.56158928,  -0.22206661,\n",
      "         -0.39684699,  -0.45798131,   7.36874477,  -1.25407938,\n",
      "         -1.80000338,   3.2397233 ,  -8.37754099,   3.66319286,\n",
      "         -0.33202885,  -1.01458918,  -0.53094958],\n",
      "       [  0.19150926,  -4.83592484,   0.06593424,  -0.4040021 ,\n",
      "         -0.33916352,   0.33786714,   9.00371851,  -0.67017963,\n",
      "         -0.60316145,  -0.67775175,  -4.67915987,   5.50872867,\n",
      "         -0.51784224,  -4.52747117,   0.42481873],\n",
      "       [ -0.45123144,   0.30109384,   0.51440937,   0.03725906,\n",
      "          0.21556157,  -0.2072563 , -14.31567964,  -0.61607457,\n",
      "         -3.60589129,  -0.05227985,   3.37117268, -13.39220361,\n",
      "         -0.24665702,  18.30275342,  -0.44575001],\n",
      "       [ -0.05853826,   1.6179957 ,  -0.2318612 ,  -0.23842073,\n",
      "         -0.41563905,  -0.53996024,  -9.10030616,  -0.57196846,\n",
      "         -1.09939483,  -7.83935577,   3.95434364,  -8.88389999,\n",
      "         -0.39687768,  19.18313405,   0.22441564]]), array([[ -0.38625498,   0.49343908,  -0.17571174],\n",
      "       [ -2.72531045,   0.37671567,   3.34135834],\n",
      "       [  0.14274497,   0.28964285,  -0.1744046 ],\n",
      "       [ -0.2655539 ,   0.45693991,  -0.08299861],\n",
      "       [  0.53652782,   0.18864749,   0.14046367],\n",
      "       [ -0.44466802,   0.51880963,  -0.05781243],\n",
      "       [  5.78905125,   1.39450263,  -7.50263416],\n",
      "       [  0.46031862,   0.07282221,  -0.5563068 ],\n",
      "       [  0.3232697 ,   0.52627661,  -0.88319423],\n",
      "       [  7.28552859,  -2.9322422 ,  -3.60102676],\n",
      "       [  2.11166872,   3.0245457 ,  -5.05701345],\n",
      "       [-10.77277554,  -0.15123818,  11.34017972],\n",
      "       [ -0.41882528,   0.49931047,   0.22717152],\n",
      "       [-15.99427928,   7.86567462,   8.21556294],\n",
      "       [  0.48826351,   0.24414617,  -0.43367408]])]\n"
     ]
    }
   ],
   "source": [
    "clf = MLPClassifier(solver='lbfgs', alpha=1e-5,hidden_layer_sizes=(15), random_state=1)\n",
    "clf.fit(X, targets)  \n",
    "print clf.coefs_"
   ]
  },
  {
   "cell_type": "code",
   "execution_count": 4,
   "metadata": {},
   "outputs": [
    {
     "name": "stdout",
     "output_type": "stream",
     "text": [
      "[0 0 0 0 0 0 0 0 0 0 0 0 0 0 0 0 0 0 0 0 0 0 0 0 0 0 0 0 0 0 0 0 0 0 0 0 0\n",
      " 0 0 0 0 0 0 0 0 0 0 0 0 0 1 1 1 1 1 1 1 1 1 1 1 1 1 1 1 1 1 1 1 1 1 1 1 1\n",
      " 1 1 1 1 1 1 1 1 1 2 1 1 1 1 1 1 1 1 1 1 1 1 1 1 1 1 2 2 2 2 2 2 2 2 2 2 2\n",
      " 2 2 2 2 2 2 2 2 2 2 2 2 2 2 2 2 2 2 2 2 2 2 2 2 2 2 2 2 2 2 2 2 2 2 2 2 2\n",
      " 2 2]\n"
     ]
    }
   ],
   "source": [
    "y_pred = clf.predict(X)\n",
    "print y_pred\n",
    "from sklearn.metrics import confusion_matrix\n",
    "cMat = confusion_matrix(targets, y_pred)"
   ]
  },
  {
   "cell_type": "code",
   "execution_count": 5,
   "metadata": {},
   "outputs": [
    {
     "data": {
      "text/plain": [
       "array([[50,  0,  0],\n",
       "       [ 0, 49,  1],\n",
       "       [ 0,  0, 50]], dtype=int64)"
      ]
     },
     "execution_count": 5,
     "metadata": {},
     "output_type": "execute_result"
    }
   ],
   "source": [
    "cMat.view()"
   ]
  },
  {
   "cell_type": "markdown",
   "metadata": {},
   "source": [
    "# Neural Network Regresion Example"
   ]
  },
  {
   "cell_type": "code",
   "execution_count": 38,
   "metadata": {},
   "outputs": [
    {
     "name": "stdout",
     "output_type": "stream",
     "text": [
      "(1L, 94L) (1L, 94L)\n"
     ]
    },
    {
     "data": {
      "text/plain": [
       "MLPRegressor(activation='relu', alpha=0.001, batch_size='auto', beta_1=0.9,\n",
       "       beta_2=0.999, early_stopping=False, epsilon=1e-08,\n",
       "       hidden_layer_sizes=(50, 50, 50), learning_rate='constant',\n",
       "       learning_rate_init=0.001, max_iter=200, momentum=0.9,\n",
       "       nesterovs_momentum=True, power_t=0.5, random_state=1, shuffle=True,\n",
       "       solver='lbfgs', tol=0.0001, validation_fraction=0.1, verbose=False,\n",
       "       warm_start=False)"
      ]
     },
     "execution_count": 38,
     "metadata": {},
     "output_type": "execute_result"
    }
   ],
   "source": [
    "import numpy as np\n",
    "from sklearn.neural_network import MLPRegressor\n",
    "data = sio.loadmat('simpleFitdataset.mat')\n",
    "x = data['x']\n",
    "t = data['t']\n",
    "\n",
    "print x.shape,t.shape\n",
    "a,b = t.shape\n",
    "tr = t+0.2*np.random.rand(1,b)\n",
    "clf = MLPRegressor(solver='lbfgs', alpha=1e-3,hidden_layer_sizes=(50,50,50), random_state=1)\n",
    "clf.fit(x,tr)  \n"
   ]
  },
  {
   "cell_type": "code",
   "execution_count": 41,
   "metadata": {},
   "outputs": [],
   "source": [
    "y_pred = clf.predict(x)"
   ]
  },
  {
   "cell_type": "code",
   "execution_count": 42,
   "metadata": {},
   "outputs": [
    {
     "data": {
      "image/png": "[encoded data removed]",
      "text/plain": [
       "<matplotlib.figure.Figure at 0xc4e6eb8>"
      ]
     },
     "metadata": {},
     "output_type": "display_data"
    }
   ],
   "source": [
    "plt.plot(x[0],t[0],'-')\n",
    "plt.plot(x[0],y_pred[0],'--')\n",
    "plt.legend({'Targets','Predicted Targets'})\n",
    "plt.show()\n"
   ]
  },
  {
   "cell_type": "code",
   "execution_count": null,
   "metadata": {
    "collapsed": true
   },
   "outputs": [],
   "source": []
  }
 ],
 "metadata": {
  "kernelspec": {
   "display_name": "Python 2",
   "language": "python",
   "name": "python2"
  },
  "language_info": {
   "codemirror_mode": {
    "name": "ipython",
    "version": 2
   },
   "file_extension": ".py",
   "mimetype": "text/x-python",
   "name": "python",
   "nbconvert_exporter": "python",
   "pygments_lexer": "ipython2",
   "version": "2.7.14"
  }
 },
 "nbformat": 4,
 "nbformat_minor": 1
}
