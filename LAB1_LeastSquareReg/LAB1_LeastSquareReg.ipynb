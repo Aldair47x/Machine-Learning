{
 "cells": [
  {
   "cell_type": "markdown",
   "metadata": {},
   "source": [
    "# Laboratorio 1: Regresión utilizando Mínimos Cuadrados"
   ]
  },
  {
   "cell_type": "markdown",
   "metadata": {},
   "source": [
    "En este laboratorio trabajaremos con la base de datos $<ejemplo\\_regresion.mat>$. Estos datos representan\n",
    "una señal para la cual se tienen las características $\\bf{x}$, las etiquetas reales $\\bf{y}$ (sin ruido) y las\n",
    "observaciones ruidosas $\\bf{t}$. La siguiente figura muestra una representación de los datos descritos."
   ]
  },
  {
   "cell_type": "markdown",
   "metadata": {},
   "source": [
    "Primero debemos adicionar algunas librerías sobre las cuales vamos a trabajar durante el módulo\n",
    "\n",
    "1. matplotlib.pyplot \n",
    "2. numpy \n",
    "3. math\n",
    "4. scipy.io \n",
    "\n",
    "Con el objetivo de importar una librería debemos realizar el siguiente comando:\n",
    "\n",
    "$\\textbf{import}$ $nombreLib$ $\\textbf{as}$ $variableNombreLib$\n",
    "\n",
    "El término $variableNombreLib$ indica la etiqueta con la cual llamaremos dicha librería. Algunas de las librerías mas importantes son"
   ]
  },
  {
   "cell_type": "code",
   "execution_count": 1,
   "metadata": {
    "collapsed": false
   },
   "outputs": [],
   "source": [
    "import matplotlib.pyplot as plt # Libreria para graficar y visualizar resultados\n",
    "import numpy as np # libreria de manejo de datos matriciales y operaciones multivariadas\n",
    "import math # Libreria de opreaciones matematicas\n",
    "import scipy.io as sio # Libreria para cargar o escribir datos (Se utilizara para cargar nuestros DATASETS)\n",
    "%matplotlib inline "
   ]
  },
  {
   "cell_type": "markdown",
   "metadata": {},
   "source": [
    "Para cargar nuestro $DATASET$, utilizaremos la función $\\textbf{loadmat}$ de la librería $\\textbf{sio}$ de la forma\n",
    "\n",
    "$dataSet$ = $\\textbf{sio.loadmat}$$('nombredelarchivoFormatoMAT.mat')$"
   ]
  },
  {
   "cell_type": "code",
   "execution_count": 2,
   "metadata": {
    "collapsed": false
   },
   "outputs": [
    {
     "name": "stdout",
     "output_type": "stream",
     "text": [
      "{'__header__': 'MATLAB 5.0 MAT-file, Platform: MACI, Created on: Sat Mar  5 12:45:05 2011', '__globals__': [], 't': array([[ 0.95674352],\n",
      "       [ 0.83293055],\n",
      "       [ 1.0104387 ],\n",
      "       [ 1.02394094],\n",
      "       [ 0.87656885],\n",
      "       [ 1.10504857],\n",
      "       [ 1.09823669],\n",
      "       [ 0.96746694],\n",
      "       [ 0.99434196],\n",
      "       [ 0.96785882],\n",
      "       [ 0.91883529],\n",
      "       [ 0.9954574 ],\n",
      "       [ 0.84761485],\n",
      "       [ 1.10646786],\n",
      "       [ 0.85429005],\n",
      "       [ 0.85712854],\n",
      "       [ 0.92819681],\n",
      "       [ 0.80117116],\n",
      "       [ 0.75730619],\n",
      "       [ 0.65314327],\n",
      "       [ 0.73318822],\n",
      "       [ 0.53535126],\n",
      "       [ 0.70347911],\n",
      "       [ 0.75534705],\n",
      "       [ 0.48264787],\n",
      "       [ 0.59438556],\n",
      "       [ 0.58872055],\n",
      "       [ 0.25671764],\n",
      "       [ 0.22287569],\n",
      "       [ 0.37317009],\n",
      "       [ 0.22345711],\n",
      "       [ 0.27826401],\n",
      "       [ 0.23521057],\n",
      "       [ 0.16794224],\n",
      "       [ 0.16776854],\n",
      "       [ 0.04667165],\n",
      "       [ 0.03924275],\n",
      "       [-0.26024014],\n",
      "       [-0.20239128],\n",
      "       [-0.27651446],\n",
      "       [-0.481427  ],\n",
      "       [-0.35492739],\n",
      "       [-0.545113  ],\n",
      "       [-0.35562051],\n",
      "       [-0.63385522],\n",
      "       [-0.55489801],\n",
      "       [-0.63814532],\n",
      "       [-0.80211012],\n",
      "       [-0.97402242],\n",
      "       [-0.8067549 ],\n",
      "       [-0.94228181],\n",
      "       [-0.81631476],\n",
      "       [-0.85935609],\n",
      "       [-0.76875909],\n",
      "       [-0.90193834],\n",
      "       [-1.04338989],\n",
      "       [-0.95358669],\n",
      "       [-1.09949932],\n",
      "       [-1.00166218],\n",
      "       [-0.99962257],\n",
      "       [-0.98369661],\n",
      "       [-0.99808207],\n",
      "       [-0.83301151],\n",
      "       [-1.09971852],\n",
      "       [-0.83292059],\n",
      "       [-0.74327778],\n",
      "       [-0.71065751],\n",
      "       [-0.67087001],\n",
      "       [-0.66375788],\n",
      "       [-0.53374456],\n",
      "       [-0.4731182 ],\n",
      "       [-0.47943841],\n",
      "       [-0.41127771],\n",
      "       [-0.31910703],\n",
      "       [-0.34994611],\n",
      "       [-0.13632489],\n",
      "       [-0.00985088],\n",
      "       [ 0.10198741],\n",
      "       [ 0.30724222],\n",
      "       [ 0.21953655],\n",
      "       [ 0.40720371],\n",
      "       [ 0.51265998],\n",
      "       [ 0.61145945],\n",
      "       [ 0.4986256 ],\n",
      "       [ 0.69446624],\n",
      "       [ 0.76657373],\n",
      "       [ 0.70478554],\n",
      "       [ 0.7865848 ],\n",
      "       [ 1.015945  ],\n",
      "       [ 0.93250039],\n",
      "       [ 1.01296532],\n",
      "       [ 1.00096344],\n",
      "       [ 0.93623084],\n",
      "       [ 0.94052906],\n",
      "       [ 1.02644478],\n",
      "       [ 0.86147877],\n",
      "       [ 0.99781911],\n",
      "       [ 0.92885516],\n",
      "       [ 0.7314    ],\n",
      "       [ 0.71845152],\n",
      "       [ 0.54812536],\n",
      "       [ 0.3597798 ],\n",
      "       [ 0.58388312],\n",
      "       [ 0.3318    ],\n",
      "       [ 0.30916795],\n",
      "       [ 0.18825357],\n",
      "       [ 0.05246097],\n",
      "       [-0.16607299],\n",
      "       [-0.27628252],\n",
      "       [-0.33318162],\n",
      "       [-0.52513441],\n",
      "       [-0.61792811],\n",
      "       [-0.46423451],\n",
      "       [-0.69681882],\n",
      "       [-0.90528787],\n",
      "       [-0.85768072],\n",
      "       [-1.02394803],\n",
      "       [-1.0900205 ],\n",
      "       [-1.01065583],\n",
      "       [-0.90338089],\n",
      "       [-0.98425502],\n",
      "       [-0.91380172],\n",
      "       [-1.06248388],\n",
      "       [-0.94220032],\n",
      "       [-0.85754554],\n",
      "       [-0.8733239 ],\n",
      "       [-0.79130567],\n",
      "       [-0.46161131],\n",
      "       [-0.43862624],\n",
      "       [-0.38079569],\n",
      "       [-0.10582959],\n",
      "       [-0.02921165],\n",
      "       [-0.01557692],\n",
      "       [ 0.35236736],\n",
      "       [ 0.37903766],\n",
      "       [ 0.62374913],\n",
      "       [ 0.70698526],\n",
      "       [ 0.63120716],\n",
      "       [ 0.66368662],\n",
      "       [ 0.86357683],\n",
      "       [ 0.89869237],\n",
      "       [ 0.88963249],\n",
      "       [ 1.04618989],\n",
      "       [ 1.14705588],\n",
      "       [ 0.92435045],\n",
      "       [ 0.85417588],\n",
      "       [ 0.85365897],\n",
      "       [ 0.86461342],\n",
      "       [ 0.61493779],\n",
      "       [ 0.46619593],\n",
      "       [ 0.44654617],\n",
      "       [ 0.31313633],\n",
      "       [ 0.22127487],\n",
      "       [-0.03848823],\n",
      "       [-0.14686598],\n",
      "       [-0.32599997],\n",
      "       [-0.43510149],\n",
      "       [-0.40871971],\n",
      "       [-0.74492123],\n",
      "       [-0.92480424],\n",
      "       [-0.82979454],\n",
      "       [-1.03215064],\n",
      "       [-0.97968224],\n",
      "       [-1.06249574],\n",
      "       [-0.93687176],\n",
      "       [-0.89985139],\n",
      "       [-0.91484799],\n",
      "       [-1.01511109],\n",
      "       [-0.68941941],\n",
      "       [-0.41676897],\n",
      "       [-0.33119999],\n",
      "       [-0.4353862 ],\n",
      "       [-0.12102715],\n",
      "       [-0.01317729],\n",
      "       [ 0.11989989],\n",
      "       [ 0.26066767],\n",
      "       [ 0.56432699],\n",
      "       [ 0.62886466],\n",
      "       [ 0.7944795 ],\n",
      "       [ 0.84620327],\n",
      "       [ 0.90441444],\n",
      "       [ 1.02733147],\n",
      "       [ 1.07219115],\n",
      "       [ 1.18881708],\n",
      "       [ 0.78948367],\n",
      "       [ 0.74118075],\n",
      "       [ 0.83828024],\n",
      "       [ 0.5625369 ],\n",
      "       [ 0.3103667 ],\n",
      "       [ 0.31171911],\n",
      "       [ 0.25720669],\n",
      "       [-0.00976335],\n",
      "       [-0.065334  ],\n",
      "       [-0.38308741],\n",
      "       [-0.40551541],\n",
      "       [-0.76469824],\n",
      "       [-0.95869586],\n",
      "       [-0.95077548],\n",
      "       [-0.86315944],\n",
      "       [-1.11162088]]), 'y': array([[ 1.        ],\n",
      "       [ 0.99948899],\n",
      "       [ 0.99790547],\n",
      "       [ 0.9951733 ],\n",
      "       [ 0.99121598],\n",
      "       [ 0.98595703],\n",
      "       [ 0.97932027],\n",
      "       [ 0.97123027],\n",
      "       [ 0.96161272],\n",
      "       [ 0.95039491],\n",
      "       [ 0.93750615],\n",
      "       [ 0.92287835],\n",
      "       [ 0.9064465 ],\n",
      "       [ 0.88814928],\n",
      "       [ 0.86792964],\n",
      "       [ 0.84573541],\n",
      "       [ 0.82151999],\n",
      "       [ 0.79524302],\n",
      "       [ 0.76687103],\n",
      "       [ 0.73637822],\n",
      "       [ 0.70374714],\n",
      "       [ 0.66896945],\n",
      "       [ 0.63204665],\n",
      "       [ 0.59299084],\n",
      "       [ 0.55182544],\n",
      "       [ 0.50858589],\n",
      "       [ 0.46332041],\n",
      "       [ 0.4160906 ],\n",
      "       [ 0.36697214],\n",
      "       [ 0.31605533],\n",
      "       [ 0.26344566],\n",
      "       [ 0.20926428],\n",
      "       [ 0.15364835],\n",
      "       [ 0.09675141],\n",
      "       [ 0.03874356],\n",
      "       [-0.0201884 ],\n",
      "       [-0.07984106],\n",
      "       [-0.13999443],\n",
      "       [-0.20041232],\n",
      "       [-0.26084273],\n",
      "       [-0.32101844],\n",
      "       [-0.38065781],\n",
      "       [-0.43946571],\n",
      "       [-0.49713466],\n",
      "       [-0.55334618],\n",
      "       [-0.60777231],\n",
      "       [-0.66007739],\n",
      "       [-0.70991996],\n",
      "       [-0.75695497],\n",
      "       [-0.80083612],\n",
      "       [-0.84121844],\n",
      "       [-0.87776106],\n",
      "       [-0.91013016],\n",
      "       [-0.93800208],\n",
      "       [-0.9610666 ],\n",
      "       [-0.97903037],\n",
      "       [-0.99162042],\n",
      "       [-0.99858777],\n",
      "       [-0.99971112],\n",
      "       [-0.99480049],\n",
      "       [-0.98370093],\n",
      "       [-0.96629613],\n",
      "       [-0.94251188],\n",
      "       [-0.9123195 ],\n",
      "       [-0.87573892],\n",
      "       [-0.83284162],\n",
      "       [-0.78375324],\n",
      "       [-0.72865575],\n",
      "       [-0.66778929],\n",
      "       [-0.60145348],\n",
      "       [-0.53000822],\n",
      "       [-0.45387387],\n",
      "       [-0.37353081],\n",
      "       [-0.28951832],\n",
      "       [-0.20243266],\n",
      "       [-0.11292449],\n",
      "       [-0.02169537],\n",
      "       [ 0.07050651],\n",
      "       [ 0.1628914 ],\n",
      "       [ 0.25463402],\n",
      "       [ 0.34488033],\n",
      "       [ 0.43275512],\n",
      "       [ 0.51737045],\n",
      "       [ 0.59783478],\n",
      "       [ 0.67326273],\n",
      "       [ 0.74278552],\n",
      "       [ 0.80556188],\n",
      "       [ 0.86078927],\n",
      "       [ 0.9077155 ],\n",
      "       [ 0.94565036],\n",
      "       [ 0.97397728],\n",
      "       [ 0.99216473],\n",
      "       [ 0.99977736],\n",
      "       [ 0.9964864 ],\n",
      "       [ 0.98207943],\n",
      "       [ 0.95646915],\n",
      "       [ 0.91970095],\n",
      "       [ 0.8719591 ],\n",
      "       [ 0.81357143],\n",
      "       [ 0.74501221],\n",
      "       [ 0.66690306],\n",
      "       [ 0.58001187],\n",
      "       [ 0.48524938],\n",
      "       [ 0.3836635 ],\n",
      "       [ 0.27643119],\n",
      "       [ 0.16484787],\n",
      "       [ 0.05031436],\n",
      "       [-0.06567854],\n",
      "       [-0.18156791],\n",
      "       [-0.2957387 ],\n",
      "       [-0.40654579],\n",
      "       [-0.51233781],\n",
      "       [-0.61148251],\n",
      "       [-0.7023932 ],\n",
      "       [-0.78355612],\n",
      "       [-0.85355801],\n",
      "       [-0.91111365],\n",
      "       [-0.95509275],\n",
      "       [-0.98454567],\n",
      "       [-0.99872744],\n",
      "       [-0.99711947],\n",
      "       [-0.97944847],\n",
      "       [-0.94570195],\n",
      "       [-0.8961398 ],\n",
      "       [-0.83130154],\n",
      "       [-0.75200869],\n",
      "       [-0.65936197],\n",
      "       [-0.55473307],\n",
      "       [-0.43975073],\n",
      "       [-0.31628111],\n",
      "       [-0.18640247],\n",
      "       [-0.05237425],\n",
      "       [ 0.08339905],\n",
      "       [ 0.21840879],\n",
      "       [ 0.35008745],\n",
      "       [ 0.47585742],\n",
      "       [ 0.59318246],\n",
      "       [ 0.69962102],\n",
      "       [ 0.79288022],\n",
      "       [ 0.87086946],\n",
      "       [ 0.93175226],\n",
      "       [ 0.97399525],\n",
      "       [ 0.99641293],\n",
      "       [ 0.99820683],\n",
      "       [ 0.97899804],\n",
      "       [ 0.9388517 ],\n",
      "       [ 0.87829263],\n",
      "       [ 0.79831101],\n",
      "       [ 0.70035753],\n",
      "       [ 0.58632741],\n",
      "       [ 0.45853312],\n",
      "       [ 0.31966573],\n",
      "       [ 0.17274532],\n",
      "       [ 0.02106086],\n",
      "       [-0.13189921],\n",
      "       [-0.28252478],\n",
      "       [-0.42716847],\n",
      "       [-0.56223494],\n",
      "       [-0.68427294],\n",
      "       [-0.79006797],\n",
      "       [-0.87673285],\n",
      "       [-0.94179394],\n",
      "       [-0.9832702 ],\n",
      "       [-0.99974262],\n",
      "       [-0.99041156],\n",
      "       [-0.95513975],\n",
      "       [-0.89447894],\n",
      "       [-0.80967862],\n",
      "       [-0.70267548],\n",
      "       [-0.57606304],\n",
      "       [-0.43304117],\n",
      "       [-0.27734595],\n",
      "       [-0.11316096],\n",
      "       [ 0.0549884 ],\n",
      "       [ 0.2223552 ],\n",
      "       [ 0.38410302],\n",
      "       [ 0.53544629],\n",
      "       [ 0.67179496],\n",
      "       [ 0.78889938],\n",
      "       [ 0.88299063],\n",
      "       [ 0.95091178],\n",
      "       [ 0.99023541],\n",
      "       [ 0.99936286],\n",
      "       [ 0.97760106],\n",
      "       [ 0.92521345],\n",
      "       [ 0.84344176],\n",
      "       [ 0.73449682],\n",
      "       [ 0.60151685],\n",
      "       [ 0.44849326],\n",
      "       [ 0.28016485],\n",
      "       [ 0.10188243],\n",
      "       [-0.08055274],\n",
      "       [-0.26107248],\n",
      "       [-0.43354165],\n",
      "       [-0.59196832],\n",
      "       [-0.73071706],\n",
      "       [-0.84471792],\n",
      "       [-0.92966313],\n",
      "       [-0.98218394],\n",
      "       [-1.        ]]), 'x': array([[ 0.        ],\n",
      "       [ 0.00502513],\n",
      "       [ 0.01005025],\n",
      "       [ 0.01507538],\n",
      "       [ 0.0201005 ],\n",
      "       [ 0.02512563],\n",
      "       [ 0.03015075],\n",
      "       [ 0.03517588],\n",
      "       [ 0.04020101],\n",
      "       [ 0.04522613],\n",
      "       [ 0.05025126],\n",
      "       [ 0.05527638],\n",
      "       [ 0.06030151],\n",
      "       [ 0.06532663],\n",
      "       [ 0.07035176],\n",
      "       [ 0.07537688],\n",
      "       [ 0.08040201],\n",
      "       [ 0.08542714],\n",
      "       [ 0.09045226],\n",
      "       [ 0.09547739],\n",
      "       [ 0.10050251],\n",
      "       [ 0.10552764],\n",
      "       [ 0.11055276],\n",
      "       [ 0.11557789],\n",
      "       [ 0.12060302],\n",
      "       [ 0.12562814],\n",
      "       [ 0.13065327],\n",
      "       [ 0.13567839],\n",
      "       [ 0.14070352],\n",
      "       [ 0.14572864],\n",
      "       [ 0.15075377],\n",
      "       [ 0.15577889],\n",
      "       [ 0.16080402],\n",
      "       [ 0.16582915],\n",
      "       [ 0.17085427],\n",
      "       [ 0.1758794 ],\n",
      "       [ 0.18090452],\n",
      "       [ 0.18592965],\n",
      "       [ 0.19095477],\n",
      "       [ 0.1959799 ],\n",
      "       [ 0.20100503],\n",
      "       [ 0.20603015],\n",
      "       [ 0.21105528],\n",
      "       [ 0.2160804 ],\n",
      "       [ 0.22110553],\n",
      "       [ 0.22613065],\n",
      "       [ 0.23115578],\n",
      "       [ 0.2361809 ],\n",
      "       [ 0.24120603],\n",
      "       [ 0.24623116],\n",
      "       [ 0.25125628],\n",
      "       [ 0.25628141],\n",
      "       [ 0.26130653],\n",
      "       [ 0.26633166],\n",
      "       [ 0.27135678],\n",
      "       [ 0.27638191],\n",
      "       [ 0.28140704],\n",
      "       [ 0.28643216],\n",
      "       [ 0.29145729],\n",
      "       [ 0.29648241],\n",
      "       [ 0.30150754],\n",
      "       [ 0.30653266],\n",
      "       [ 0.31155779],\n",
      "       [ 0.31658291],\n",
      "       [ 0.32160804],\n",
      "       [ 0.32663317],\n",
      "       [ 0.33165829],\n",
      "       [ 0.33668342],\n",
      "       [ 0.34170854],\n",
      "       [ 0.34673367],\n",
      "       [ 0.35175879],\n",
      "       [ 0.35678392],\n",
      "       [ 0.36180905],\n",
      "       [ 0.36683417],\n",
      "       [ 0.3718593 ],\n",
      "       [ 0.37688442],\n",
      "       [ 0.38190955],\n",
      "       [ 0.38693467],\n",
      "       [ 0.3919598 ],\n",
      "       [ 0.39698492],\n",
      "       [ 0.40201005],\n",
      "       [ 0.40703518],\n",
      "       [ 0.4120603 ],\n",
      "       [ 0.41708543],\n",
      "       [ 0.42211055],\n",
      "       [ 0.42713568],\n",
      "       [ 0.4321608 ],\n",
      "       [ 0.43718593],\n",
      "       [ 0.44221106],\n",
      "       [ 0.44723618],\n",
      "       [ 0.45226131],\n",
      "       [ 0.45728643],\n",
      "       [ 0.46231156],\n",
      "       [ 0.46733668],\n",
      "       [ 0.47236181],\n",
      "       [ 0.47738693],\n",
      "       [ 0.48241206],\n",
      "       [ 0.48743719],\n",
      "       [ 0.49246231],\n",
      "       [ 0.49748744],\n",
      "       [ 0.50251256],\n",
      "       [ 0.50753769],\n",
      "       [ 0.51256281],\n",
      "       [ 0.51758794],\n",
      "       [ 0.52261307],\n",
      "       [ 0.52763819],\n",
      "       [ 0.53266332],\n",
      "       [ 0.53768844],\n",
      "       [ 0.54271357],\n",
      "       [ 0.54773869],\n",
      "       [ 0.55276382],\n",
      "       [ 0.55778894],\n",
      "       [ 0.56281407],\n",
      "       [ 0.5678392 ],\n",
      "       [ 0.57286432],\n",
      "       [ 0.57788945],\n",
      "       [ 0.58291457],\n",
      "       [ 0.5879397 ],\n",
      "       [ 0.59296482],\n",
      "       [ 0.59798995],\n",
      "       [ 0.60301508],\n",
      "       [ 0.6080402 ],\n",
      "       [ 0.61306533],\n",
      "       [ 0.61809045],\n",
      "       [ 0.62311558],\n",
      "       [ 0.6281407 ],\n",
      "       [ 0.63316583],\n",
      "       [ 0.63819095],\n",
      "       [ 0.64321608],\n",
      "       [ 0.64824121],\n",
      "       [ 0.65326633],\n",
      "       [ 0.65829146],\n",
      "       [ 0.66331658],\n",
      "       [ 0.66834171],\n",
      "       [ 0.67336683],\n",
      "       [ 0.67839196],\n",
      "       [ 0.68341709],\n",
      "       [ 0.68844221],\n",
      "       [ 0.69346734],\n",
      "       [ 0.69849246],\n",
      "       [ 0.70351759],\n",
      "       [ 0.70854271],\n",
      "       [ 0.71356784],\n",
      "       [ 0.71859296],\n",
      "       [ 0.72361809],\n",
      "       [ 0.72864322],\n",
      "       [ 0.73366834],\n",
      "       [ 0.73869347],\n",
      "       [ 0.74371859],\n",
      "       [ 0.74874372],\n",
      "       [ 0.75376884],\n",
      "       [ 0.75879397],\n",
      "       [ 0.7638191 ],\n",
      "       [ 0.76884422],\n",
      "       [ 0.77386935],\n",
      "       [ 0.77889447],\n",
      "       [ 0.7839196 ],\n",
      "       [ 0.78894472],\n",
      "       [ 0.79396985],\n",
      "       [ 0.79899497],\n",
      "       [ 0.8040201 ],\n",
      "       [ 0.80904523],\n",
      "       [ 0.81407035],\n",
      "       [ 0.81909548],\n",
      "       [ 0.8241206 ],\n",
      "       [ 0.82914573],\n",
      "       [ 0.83417085],\n",
      "       [ 0.83919598],\n",
      "       [ 0.84422111],\n",
      "       [ 0.84924623],\n",
      "       [ 0.85427136],\n",
      "       [ 0.85929648],\n",
      "       [ 0.86432161],\n",
      "       [ 0.86934673],\n",
      "       [ 0.87437186],\n",
      "       [ 0.87939698],\n",
      "       [ 0.88442211],\n",
      "       [ 0.88944724],\n",
      "       [ 0.89447236],\n",
      "       [ 0.89949749],\n",
      "       [ 0.90452261],\n",
      "       [ 0.90954774],\n",
      "       [ 0.91457286],\n",
      "       [ 0.91959799],\n",
      "       [ 0.92462312],\n",
      "       [ 0.92964824],\n",
      "       [ 0.93467337],\n",
      "       [ 0.93969849],\n",
      "       [ 0.94472362],\n",
      "       [ 0.94974874],\n",
      "       [ 0.95477387],\n",
      "       [ 0.95979899],\n",
      "       [ 0.96482412],\n",
      "       [ 0.96984925],\n",
      "       [ 0.97487437],\n",
      "       [ 0.9798995 ],\n",
      "       [ 0.98492462],\n",
      "       [ 0.98994975],\n",
      "       [ 0.99497487],\n",
      "       [ 1.        ]]), '__version__': '1.0'}\n"
     ]
    }
   ],
   "source": [
    "data = sio.loadmat('ejemplo_regresion.mat')\n",
    "# los datos pueden ser verificados con la funcion print datosAmostrar\n",
    "print data"
   ]
  },
  {
   "cell_type": "markdown",
   "metadata": {},
   "source": [
    "Debido a que la variable $\\bf{data}$ es un diccionario que contiene las variables $\\bf{x}$, $\\bf{t}$ y $\\bf{y}$, es necesario extraerlas y asignarlas apropiadamente para su procesamiento. La forma de asignarlas a una respectiva variable es:\n",
    "\n",
    "$variableDestino = diccName['nombreCampo']$"
   ]
  },
  {
   "cell_type": "code",
   "execution_count": 3,
   "metadata": {
    "collapsed": false
   },
   "outputs": [
    {
     "data": {
      "text/plain": [
       "<matplotlib.legend.Legend at 0xa50fb38>"
      ]
     },
     "execution_count": 3,
     "metadata": {},
     "output_type": "execute_result"
    },
    {
     "data": {
      "image/png": "[encoded data removed]",
      "text/plain": [
       "<matplotlib.figure.Figure at 0xa540da0>"
      ]
     },
     "metadata": {},
     "output_type": "display_data"
    }
   ],
   "source": [
    "x = data['x'] # Se accede al campo x donde se encuentran las características del conjunto de entrenamiento\n",
    "N,D = x.shape\n",
    "t = data['t'] # Se accede al campo de las etiqueta (valores reales observados con ruido)\n",
    "y = data['y'] # Se accede al campo de las etiquetas sin ruido (para verificacion)\n",
    "\n",
    "plt.plot(x,t,'or')\n",
    "plt.plot(x,y,'-b')\n",
    "plt.xlabel('x')\n",
    "plt.legend(('Noise data (t)', 'True data (y)'))"
   ]
  },
  {
   "cell_type": "code",
   "execution_count": 4,
   "metadata": {
    "collapsed": false
   },
   "outputs": [
    {
     "name": "stdout",
     "output_type": "stream",
     "text": [
      "(200L, 1L) (140L, 1L)\n"
     ]
    },
    {
     "data": {
      "text/plain": [
       "<matplotlib.legend.Legend at 0xa6d3f98>"
      ]
     },
     "execution_count": 4,
     "metadata": {},
     "output_type": "execute_result"
    },
    {
     "data": {
      "image/png": "[encoded data removed]",
      "text/plain": [
       "<matplotlib.figure.Figure at 0xa50f6d8>"
      ]
     },
     "metadata": {},
     "output_type": "display_data"
    }
   ],
   "source": [
    "id = np.random.permutation(N)\n",
    "\n",
    "perTrain = 0.7\n",
    "NTr = int(round(perTrain*N))\n",
    "idTr = id[:NTr]\n",
    "idTe =id[NTr:]\n",
    "xTr = x[idTr]\n",
    "xTe = x[idTe]\n",
    "tTr = t[idTr]\n",
    "tTe = t[idTe]\n",
    "print x.shape,xTr.shape\n",
    "plt.plot(xTr,tTr,'or')\n",
    "plt.plot(xTe,tTe,'sk')\n",
    "plt.xlabel('x')\n",
    "plt.legend(('Train data (Tr)', 'Test data (Te)'))\n",
    "\n"
   ]
  },
  {
   "cell_type": "markdown",
   "metadata": {},
   "source": [
    "Luego de tener nuestros datos debidamente almacenados en sus respectivas variables debemos recordar que para una tarea de machine learning, nuestro conjunto de datos serán: \n",
    "\n",
    "$\\bullet$  Observaciones para $\\bf{X}=[\\bf{x}_1,\\bf{x}_2,\\cdots, \\bf{x}_N]\\in \\mathbb{R}^{N\\times D}$, donde cada vector observado es de dimensionaledad $\\bf{x}\\in \\mathbb{R}^{D\\times 1}$\n",
    "\n",
    "$\\bullet$  Etiquetas (flotantes) para $\\bf{t}\\in \\mathbb{R}^{N\\times 1}$\n",
    "\n",
    "Para realizar el experimento con el regresor lineal utilizando mínimos cuadrados, utilizaremos la librería $\\bf LSfunction$. De esta librería, se utilizará el módulo $\\bf linearRegressionModule$\n",
    "\n",
    "el comando para importar un módulo de una librería es:\n",
    "\n",
    "$\\bf from$ $nombreLibreria$ $\\bf import$ $nombreModulo$ $\\bf as$ $variableParaNombrarMod$"
   ]
  },
  {
   "cell_type": "code",
   "execution_count": 5,
   "metadata": {
    "collapsed": false
   },
   "outputs": [],
   "source": [
    "# Se importa el módulo de regresión lineal y se le asigna el nombre de LS\n",
    "from LSfunction import linearRegressionModule as LS        "
   ]
  },
  {
   "cell_type": "markdown",
   "metadata": {},
   "source": [
    "Este módulo realiza la tarea de ajusta un conjunto de observaciones $\\bf X$ a unas etiquetas $\\bf t$ a partir de la selección del mapeo de una cantidad $M$ de funciones base que pueden ser de tipo polinomial, exponencial y sigmoidal. Estas funciones base permiten llevar nuestras observaciones a un espacio de representación mas relevante en el cual el ajuste de los datos presenta un mejor desempeño.\n",
    "\n",
    "El módulo denominado $\\bf LS$ se ejecuta de mediante el siguiente comando\n",
    "\n",
    "$W\\_ML, EtiquetaEstimada$ $=$ $\\bf LS$$(observaciones,etiquetas,tipoFCNbase,M)$\n",
    "\n",
    "Dicha función recibe cómo argumentos de entrada:\n",
    "\n",
    "$\\bullet$ observaciones: matriz de dimensión $\\mathbb{R}^{N\\times D}$ que contiene los patrones a modelar\n",
    "\n",
    "$\\bullet$ etiquetas: vector de dimensión $\\mathbb{R}^{N\\times 1}$ que contiene las etiquetas correspondientes a cada dato\n",
    "\n",
    "$\\bullet$ tipoFCNbase: dato tipo cadena para identificar el tipo de funcion base a utilizar. Esta cadena puede ser:\n",
    "\n",
    "  $-$ 'pol': para una funcion de base polinomial\n",
    " \n",
    "  $-$ 'exp': para una funcion de base exponencial\n",
    "    \n",
    "  $-$ 'sig': para una funcion de base sigmoidal\n",
    "  \n",
    "Dicha función tiene cómo argumentos de salida:\n",
    "\n",
    "$\\bullet$ $W\\_ML$: vector de coeficientes que realiza la estimación de los datos de la forma $\\hat{\\bf{y}} = \\bf{w}_{ML}^\\top \\phi(\\bf{x}_n)$\n",
    "\n",
    "$\\bullet$ EtiquetaEstimada: vector de tamaño $\\mathbb{R}^{N \\times 1} $ que contiene las etiquetas estimadas para los respectivos $\\bf X$"
   ]
  },
  {
   "cell_type": "markdown",
   "metadata": {},
   "source": [
    "## Ajuste de una Función\n",
    "\n",
    "En el siguiente ejemplo se observa el ajuste del conjunto de datos $\\bf x$ utilizando una función de base polinomial, con $M = 15$ funciones base."
   ]
  },
  {
   "cell_type": "code",
   "execution_count": 33,
   "metadata": {
    "collapsed": false
   },
   "outputs": [
    {
     "data": {
      "text/plain": [
       "[<matplotlib.lines.Line2D at 0xcf22358>]"
      ]
     },
     "execution_count": 33,
     "metadata": {},
     "output_type": "execute_result"
    },
    {
     "data": {
      "image/png": "[encoded data removed]",
      "text/plain": [
       "<matplotlib.figure.Figure at 0xcbbb400>"
      ]
     },
     "metadata": {},
     "output_type": "display_data"
    }
   ],
   "source": [
    "PHIb,w_ML,yEstimado = LS(x,t,'pol',15)\n",
    "plt.plot(x,yEstimado)\n",
    "plt.plot(x,y)"
   ]
  },
  {
   "cell_type": "markdown",
   "metadata": {},
   "source": [
    "## Tarea\n",
    "\n",
    "1. Realice la prueba de este mismo método de regresión utilizando diferentes funciones base y variando la cantidad de estas funcioens para realizar la regresión\n",
    "\n",
    "2. Grafique los respectivos resultados y analice los diferentes comportamientos\n",
    "\n",
    "### Preguntas\n",
    "\n",
    "a. ¿ En que afecta la variacion de la cantidad de funciones base el resultado final de regressión?"
   ]
  },
  {
   "cell_type": "raw",
   "metadata": {},
   "source": []
  },
  {
   "cell_type": "markdown",
   "metadata": {},
   "source": [
    "b. ¿ Cómo se podría solucionar el problema en las zonas donde la señal no es bien modelada?\n"
   ]
  },
  {
   "cell_type": "raw",
   "metadata": {},
   "source": []
  },
  {
   "cell_type": "markdown",
   "metadata": {},
   "source": [
    "c. ¿ Que tipo de funcion base considera arrojar un mejor desempeño?"
   ]
  },
  {
   "cell_type": "raw",
   "metadata": {},
   "source": [
    " "
   ]
  },
  {
   "cell_type": "markdown",
   "metadata": {},
   "source": [
    "## Prueba 17 Feb LS"
   ]
  },
  {
   "cell_type": "code",
   "execution_count": 105,
   "metadata": {
    "collapsed": false
   },
   "outputs": [
    {
     "data": {
      "text/plain": [
       "[<matplotlib.lines.Line2D at 0x12be2a20>]"
      ]
     },
     "execution_count": 105,
     "metadata": {},
     "output_type": "execute_result"
    },
    {
     "data": {
      "image/png": "[encoded data removed]",
      "text/plain": [
       "<matplotlib.figure.Figure at 0x120fb5c0>"
      ]
     },
     "metadata": {},
     "output_type": "display_data"
    }
   ],
   "source": [
    "# -entrenar el modelo\n",
    "PHITr,w_ML,yEstimadoTr = LS(xTr,tTr,'pol',150)\n",
    "# Calcular PHITe\n",
    "PHITe,w_MLTe,yEstimadoTe = LS(xTe,tTe,'pol',150)\n",
    "yEstimadoTe = PHITe.dot(w_ML)\n",
    "plt.plot(xTr,yEstimadoTr,'or')\n",
    "plt.plot(xTe,yEstimadoTe,'og')\n",
    "plt.plot(x,y)"
   ]
  },
  {
   "cell_type": "code",
   "execution_count": 106,
   "metadata": {
    "collapsed": true
   },
   "outputs": [],
   "source": [
    "def Erms(to,te):\n",
    "    N,d = to.shape\n",
    "    eRMS = np.sqrt((1.0/N)*np.sum((to-te)**2))\n",
    "    return eRMS"
   ]
  },
  {
   "cell_type": "code",
   "execution_count": 107,
   "metadata": {
    "collapsed": false
   },
   "outputs": [
    {
     "name": "stdout",
     "output_type": "stream",
     "text": [
      "35.9731517474 44.2479041747\n"
     ]
    }
   ],
   "source": [
    "RMStest = Erms(tTr,yEstimadoTr)\n",
    "RMStrain = Erms(tTe,yEstimadoTe)\n",
    "\n",
    "print RMStest,RMStrain"
   ]
  },
  {
   "cell_type": "code",
   "execution_count": 108,
   "metadata": {
    "collapsed": false
   },
   "outputs": [
    {
     "data": {
      "text/plain": [
       "array([[ 1.,  0.,  0.,  0.,  0.],\n",
       "       [ 0.,  1.,  0.,  0.,  0.],\n",
       "       [ 0.,  0.,  1.,  0.,  0.],\n",
       "       [ 0.,  0.,  0.,  1.,  0.],\n",
       "       [ 0.,  0.,  0.,  0.,  1.]])"
      ]
     },
     "execution_count": 108,
     "metadata": {},
     "output_type": "execute_result"
    }
   ],
   "source": [
    "np.eye(5)"
   ]
  },
  {
   "cell_type": "markdown",
   "metadata": {},
   "source": [
    "# LS con regularización"
   ]
  },
  {
   "cell_type": "code",
   "execution_count": 120,
   "metadata": {
    "collapsed": true
   },
   "outputs": [],
   "source": [
    "def LSReg(X,t,basisFNC,NbF,lambdaI):\n",
    "    Ndata,D = X.shape\n",
    "    I = np.eye(NbF+1)\n",
    "    #print Ndata,D\n",
    "    yEst = np.zeros((Ndata,1))\n",
    "    # Calculo de la matriz PHI de funciones base\n",
    "    PHI = np.zeros((Ndata,NbF+1))\n",
    "    PHI[:,0] = 1\n",
    "    for n in range(0,Ndata):\n",
    "        #print X[n]\n",
    "        for i in range(1,NbF+1):\n",
    "            if basisFNC == 'pol':                \n",
    "                PHI[n][i] = X[n]**(i)\n",
    "# Luego se estima el mejor W que maximiza la verosimilitud utilizando minimos cuadrados\n",
    "    PHIT = PHI.T\n",
    "    w_ml = np.linalg.inv(lambdaI*I+PHIT.dot(PHI)).dot(PHIT.dot(t))\n",
    "    yEst = PHI.dot(w_ml)\n",
    "    #print w_ml\n",
    "    return PHI,w_ml,yEst"
   ]
  },
  {
   "cell_type": "code",
   "execution_count": 127,
   "metadata": {
    "collapsed": false
   },
   "outputs": [
    {
     "data": {
      "text/plain": [
       "[<matplotlib.lines.Line2D at 0x1363a4a8>]"
      ]
     },
     "execution_count": 127,
     "metadata": {},
     "output_type": "execute_result"
    },
    {
     "data": {
      "image/png": "[encoded data removed]",
      "text/plain": [
       "<matplotlib.figure.Figure at 0xed39fd0>"
      ]
     },
     "metadata": {},
     "output_type": "display_data"
    }
   ],
   "source": [
    "\n",
    "lambdaI = math.exp(-18.0)\n",
    "#lambdaI = 0.\n",
    "# -entrenar el modelo\n",
    "PHITr,w_MLReg,yEstimadoTr = LSReg(xTr,tTr,'pol',150,lambdaI)\n",
    "# Calcular PHITe\n",
    "PHITe,w_MLRegte,yEstimadoTe = LSReg(xTe,tTe,'pol',150,lambdaI)\n",
    "yEstimadoTe = PHITe.dot(w_MLReg)\n",
    "plt.plot(xTr,yEstimadoTr,'or')\n",
    "plt.plot(xTe,yEstimadoTe,'og')\n",
    "plt.plot(x,y)"
   ]
  },
  {
   "cell_type": "code",
   "execution_count": 125,
   "metadata": {
    "collapsed": false
   },
   "outputs": [
    {
     "data": {
      "text/plain": [
       "array([[  4.37573642e+01],\n",
       "       [  5.91768735e+03],\n",
       "       [ -6.25460294e+05],\n",
       "       [  1.54910969e+07],\n",
       "       [ -1.79895699e+08],\n",
       "       [  1.20534103e+09],\n",
       "       [ -5.12075693e+09],\n",
       "       [  1.43827316e+10],\n",
       "       [ -2.67588876e+10],\n",
       "       [  3.10199346e+10],\n",
       "       [ -1.56645507e+10],\n",
       "       [ -1.52872160e+10],\n",
       "       [  4.51622773e+10],\n",
       "       [ -6.10832989e+10],\n",
       "       [  5.57849457e+10],\n",
       "       [ -2.89286103e+10],\n",
       "       [ -2.39476187e+09],\n",
       "       [  1.91518534e+10],\n",
       "       [ -2.16965408e+10],\n",
       "       [  1.57708596e+10],\n",
       "       [ -4.83388541e+09],\n",
       "       [ -6.91543523e+08],\n",
       "       [ -2.13854210e+09],\n",
       "       [  3.10467580e+09],\n",
       "       [  9.94526040e+07],\n",
       "       [ -1.42322042e+09],\n",
       "       [  3.48216314e+08],\n",
       "       [  2.45840494e+08],\n",
       "       [  2.75264541e+08],\n",
       "       [ -7.68095598e+08],\n",
       "       [  5.40467808e+08],\n",
       "       [ -2.83983644e+08],\n",
       "       [  2.55735852e+08],\n",
       "       [ -6.36784928e+07],\n",
       "       [ -7.60957770e+07],\n",
       "       [  5.23225188e+07],\n",
       "       [ -7.25308673e+07],\n",
       "       [  4.95798716e+07],\n",
       "       [  6.15696842e+07],\n",
       "       [ -8.53209955e+07],\n",
       "       [  2.32674655e+07],\n",
       "       [ -6.28084161e+07],\n",
       "       [  1.28537088e+08],\n",
       "       [ -5.09950365e+07],\n",
       "       [ -3.49160760e+07],\n",
       "       [  3.22810924e+07],\n",
       "       [ -1.12232355e+07],\n",
       "       [ -5.59680200e+06],\n",
       "       [  9.08832756e+06],\n",
       "       [ -3.77686225e+06],\n",
       "       [  1.07635762e+06],\n",
       "       [ -1.23723600e+06],\n",
       "       [  4.44608300e+06],\n",
       "       [ -2.23005505e+06],\n",
       "       [ -2.02761188e+06],\n",
       "       [  2.48765700e+06],\n",
       "       [  1.22679800e+06],\n",
       "       [ -3.84289600e+06],\n",
       "       [  1.41474562e+06],\n",
       "       [  1.16024950e+06],\n",
       "       [ -3.75555000e+04],\n",
       "       [ -7.98903000e+05],\n",
       "       [ -1.01750250e+06],\n",
       "       [  5.12506500e+05],\n",
       "       [  5.71283250e+05],\n",
       "       [  1.34440450e+06],\n",
       "       [  9.16500000e+04],\n",
       "       [ -1.27875025e+06],\n",
       "       [ -2.79563000e+05],\n",
       "       [  4.78340000e+04],\n",
       "       [ -4.21216750e+05],\n",
       "       [  2.46192000e+05],\n",
       "       [ -2.01716000e+05],\n",
       "       [  4.06132375e+05],\n",
       "       [  2.41793000e+05],\n",
       "       [ -6.81557625e+05],\n",
       "       [ -3.40425500e+05],\n",
       "       [ -7.16081500e+05],\n",
       "       [  3.89050000e+03],\n",
       "       [ -2.35641000e+05],\n",
       "       [  1.15980675e+06],\n",
       "       [  5.77358500e+05],\n",
       "       [ -1.27816250e+05],\n",
       "       [  6.69810000e+05],\n",
       "       [  5.07600000e+05],\n",
       "       [ -1.35422000e+05],\n",
       "       [ -6.67592000e+05],\n",
       "       [  7.96438500e+05],\n",
       "       [ -5.49486500e+05],\n",
       "       [ -7.37645000e+05],\n",
       "       [  1.89125000e+02],\n",
       "       [  5.10394000e+05],\n",
       "       [ -7.62270000e+04],\n",
       "       [  1.12791100e+06],\n",
       "       [ -9.77503000e+05],\n",
       "       [ -9.30767500e+04],\n",
       "       [  8.33483000e+05],\n",
       "       [  9.32844688e+05],\n",
       "       [ -5.18852750e+05],\n",
       "       [ -1.91982350e+06],\n",
       "       [ -1.84921950e+06],\n",
       "       [ -7.30172000e+05],\n",
       "       [  8.72157000e+05],\n",
       "       [  2.42706825e+06],\n",
       "       [ -5.63653750e+05],\n",
       "       [ -6.02731125e+05],\n",
       "       [  7.16811250e+05],\n",
       "       [ -1.04082000e+06],\n",
       "       [  1.15010000e+04],\n",
       "       [ -1.04126250e+06],\n",
       "       [  1.50156700e+06],\n",
       "       [  1.44596700e+06],\n",
       "       [  3.03554500e+05],\n",
       "       [  8.55647500e+04],\n",
       "       [  6.40088500e+05],\n",
       "       [ -4.42078000e+05],\n",
       "       [ -4.35898875e+05],\n",
       "       [ -4.83903375e+05],\n",
       "       [  3.05408750e+05],\n",
       "       [ -3.13121000e+05],\n",
       "       [  6.44915000e+05],\n",
       "       [ -6.66193750e+05],\n",
       "       [  2.35943000e+05],\n",
       "       [ -5.51468000e+05],\n",
       "       [ -1.50459750e+05],\n",
       "       [ -1.33539800e+06],\n",
       "       [  3.79105000e+05],\n",
       "       [ -1.08522000e+06],\n",
       "       [  1.33760275e+06],\n",
       "       [  7.70171000e+05],\n",
       "       [ -3.15002000e+05],\n",
       "       [  3.90241500e+05],\n",
       "       [ -2.03143500e+05],\n",
       "       [ -2.92597000e+05],\n",
       "       [ -5.68192000e+05],\n",
       "       [  7.17890000e+05],\n",
       "       [  1.85161000e+05],\n",
       "       [  1.92716641e+05],\n",
       "       [ -3.69812000e+05],\n",
       "       [  1.65059500e+06],\n",
       "       [ -5.93143500e+05],\n",
       "       [ -6.39668500e+05],\n",
       "       [  4.78727750e+05],\n",
       "       [  9.47493000e+05],\n",
       "       [ -8.16718000e+05],\n",
       "       [ -7.03064000e+05],\n",
       "       [ -5.29864688e+05],\n",
       "       [ -4.69359000e+05],\n",
       "       [ -2.53810625e+04],\n",
       "       [  8.27183250e+05],\n",
       "       [  1.24680750e+05]])"
      ]
     },
     "execution_count": 125,
     "metadata": {},
     "output_type": "execute_result"
    }
   ],
   "source": [
    "w_ML"
   ]
  },
  {
   "cell_type": "code",
   "execution_count": 126,
   "metadata": {
    "collapsed": false
   },
   "outputs": [
    {
     "data": {
      "text/plain": [
       "array([[  2.43423708e-01],\n",
       "       [ -5.31105518e-01],\n",
       "       [ -4.35433522e-03],\n",
       "       [  1.13788154e-01],\n",
       "       [  1.21951781e-01],\n",
       "       [  1.10549518e-01],\n",
       "       [  9.84385855e-02],\n",
       "       [  8.81853149e-02],\n",
       "       [  7.94931948e-02],\n",
       "       [  7.18351480e-02],\n",
       "       [  6.48060195e-02],\n",
       "       [  5.81129130e-02],\n",
       "       [  5.15482353e-02],\n",
       "       [  4.49764557e-02],\n",
       "       [  3.83248178e-02],\n",
       "       [  3.15724907e-02],\n",
       "       [  2.47379641e-02],\n",
       "       [  1.78663081e-02],\n",
       "       [  1.10177986e-02],\n",
       "       [  4.25873405e-03],\n",
       "       [ -2.34534765e-03],\n",
       "       [ -8.73423940e-03],\n",
       "       [ -1.48557973e-02],\n",
       "       [ -2.06672624e-02],\n",
       "       [ -2.61355693e-02],\n",
       "       [ -3.12369763e-02],\n",
       "       [ -3.59562798e-02],\n",
       "       [ -4.02858055e-02],\n",
       "       [ -4.42243144e-02],\n",
       "       [ -4.77759144e-02],\n",
       "       [ -5.09490341e-02],\n",
       "       [ -5.37554912e-02],\n",
       "       [ -5.62096710e-02],\n",
       "       [ -5.83278176e-02],\n",
       "       [ -6.01274349e-02],\n",
       "       [ -6.16267890e-02],\n",
       "       [ -6.28445009e-02],\n",
       "       [ -6.37992206e-02],\n",
       "       [ -6.45093695e-02],\n",
       "       [ -6.49929414e-02],\n",
       "       [ -6.52673538e-02],\n",
       "       [ -6.53493391e-02],\n",
       "       [ -6.52548698e-02],\n",
       "       [ -6.49991109e-02],\n",
       "       [ -6.45963944e-02],\n",
       "       [ -6.40602100e-02],\n",
       "       [ -6.34032109e-02],\n",
       "       [ -6.26372283e-02],\n",
       "       [ -6.17732949e-02],\n",
       "       [ -6.08216732e-02],\n",
       "       [ -5.97918881e-02],\n",
       "       [ -5.86927619e-02],\n",
       "       [ -5.75324513e-02],\n",
       "       [ -5.63184841e-02],\n",
       "       [ -5.50577965e-02],\n",
       "       [ -5.37567703e-02],\n",
       "       [ -5.24212677e-02],\n",
       "       [ -5.10566665e-02],\n",
       "       [ -4.96678931e-02],\n",
       "       [ -4.82594539e-02],\n",
       "       [ -4.68354656e-02],\n",
       "       [ -4.53996834e-02],\n",
       "       [ -4.39555278e-02],\n",
       "       [ -4.25061095e-02],\n",
       "       [ -4.10542535e-02],\n",
       "       [ -3.96025204e-02],\n",
       "       [ -3.81532273e-02],\n",
       "       [ -3.67084671e-02],\n",
       "       [ -3.52701257e-02],\n",
       "       [ -3.38398990e-02],\n",
       "       [ -3.24193080e-02],\n",
       "       [ -3.10097130e-02],\n",
       "       [ -2.96123269e-02],\n",
       "       [ -2.82282270e-02],\n",
       "       [ -2.68583666e-02],\n",
       "       [ -2.55035851e-02],\n",
       "       [ -2.41646177e-02],\n",
       "       [ -2.28421043e-02],\n",
       "       [ -2.15365974e-02],\n",
       "       [ -2.02485700e-02],\n",
       "       [ -1.89784221e-02],\n",
       "       [ -1.77264873e-02],\n",
       "       [ -1.64930387e-02],\n",
       "       [ -1.52782943e-02],\n",
       "       [ -1.40824216e-02],\n",
       "       [ -1.29055429e-02],\n",
       "       [ -1.17477386e-02],\n",
       "       [ -1.06090521e-02],\n",
       "       [ -9.48949221e-03],\n",
       "       [ -8.38903742e-03],\n",
       "       [ -7.30763827e-03],\n",
       "       [ -6.24522034e-03],\n",
       "       [ -5.20168675e-03],\n",
       "       [ -4.17692042e-03],\n",
       "       [ -3.17078627e-03],\n",
       "       [ -2.18313311e-03],\n",
       "       [ -1.21379546e-03],\n",
       "       [ -2.62595156e-04],\n",
       "       [  6.70657117e-04],\n",
       "       [  1.58616048e-03],\n",
       "       [  2.48412260e-03],\n",
       "       [  3.36475854e-03],\n",
       "       [  4.22828970e-03],\n",
       "       [  5.07494288e-03],\n",
       "       [  5.90494940e-03],\n",
       "       [  6.71854429e-03],\n",
       "       [  7.51596558e-03],\n",
       "       [  8.29745363e-03],\n",
       "       [  9.06325054e-03],\n",
       "       [  9.81359959e-03],\n",
       "       [  1.05487447e-02],\n",
       "       [  1.12689302e-02],\n",
       "       [  1.19744001e-02],\n",
       "       [  1.26653978e-02],\n",
       "       [  1.33421661e-02],\n",
       "       [  1.40049463e-02],\n",
       "       [  1.46539787e-02],\n",
       "       [  1.52895016e-02],\n",
       "       [  1.59117515e-02],\n",
       "       [  1.65209628e-02],\n",
       "       [  1.71173677e-02],\n",
       "       [  1.77011962e-02],\n",
       "       [  1.82726753e-02],\n",
       "       [  1.88320299e-02],\n",
       "       [  1.93794818e-02],\n",
       "       [  1.99152501e-02],\n",
       "       [  2.04395510e-02],\n",
       "       [  2.09525978e-02],\n",
       "       [  2.14546006e-02],\n",
       "       [  2.19457668e-02],\n",
       "       [  2.24263004e-02],\n",
       "       [  2.28964024e-02],\n",
       "       [  2.33562707e-02],\n",
       "       [  2.38061001e-02],\n",
       "       [  2.42460821e-02],\n",
       "       [  2.46764053e-02],\n",
       "       [  2.50972550e-02],\n",
       "       [  2.55088134e-02],\n",
       "       [  2.59112597e-02],\n",
       "       [  2.63047699e-02],\n",
       "       [  2.66895169e-02],\n",
       "       [  2.70656708e-02],\n",
       "       [  2.74333984e-02],\n",
       "       [  2.77928636e-02],\n",
       "       [  2.81442274e-02],\n",
       "       [  2.84876479e-02],\n",
       "       [  2.88232801e-02],\n",
       "       [  2.91512765e-02],\n",
       "       [  2.94717864e-02],\n",
       "       [  2.97849566e-02],\n",
       "       [  3.00909311e-02]])"
      ]
     },
     "execution_count": 126,
     "metadata": {},
     "output_type": "execute_result"
    }
   ],
   "source": [
    "w_MLReg"
   ]
  },
  {
   "cell_type": "code",
   "execution_count": 128,
   "metadata": {
    "collapsed": false
   },
   "outputs": [
    {
     "name": "stdout",
     "output_type": "stream",
     "text": [
      "0.21602495917 0.221118852485\n"
     ]
    }
   ],
   "source": [
    "RMStest = Erms(tTr,yEstimadoTr)\n",
    "RMStrain = Erms(tTe,yEstimadoTe)\n",
    "\n",
    "print RMStest,RMStrain"
   ]
  },
  {
   "cell_type": "code",
   "execution_count": 43,
   "metadata": {
    "collapsed": false
   },
   "outputs": [
    {
     "name": "stdout",
     "output_type": "stream",
     "text": [
      "(200L, 100L)\n"
     ]
    },
    {
     "data": {
      "text/plain": [
       "[<matplotlib.lines.Line2D at 0xd3d7828>]"
      ]
     },
     "execution_count": 43,
     "metadata": {},
     "output_type": "execute_result"
    },
    {
     "data": {
      "image/png": "[encoded data removed]",
      "text/plain": [
       "<matplotlib.figure.Figure at 0xd575048>"
      ]
     },
     "metadata": {},
     "output_type": "display_data"
    }
   ],
   "source": [
    "M = 100 # numero de funciones base\n",
    "PHI,w_MLReg,yEstimadoTr = LS(x,t,'pol',M-1)\n",
    "print PHI.shape\n",
    "plt.plot(x,y)\n",
    "plt.plot(x,t,'or')"
   ]
  },
  {
   "cell_type": "markdown",
   "metadata": {
    "collapsed": true
   },
   "source": [
    "# Sesion 24 Feb - Regresión Bayesiana"
   ]
  },
  {
   "cell_type": "code",
   "execution_count": 45,
   "metadata": {
    "collapsed": false
   },
   "outputs": [
    {
     "name": "stdout",
     "output_type": "stream",
     "text": [
      "(100L, 1L) (100L, 100L)\n"
     ]
    },
    {
     "data": {
      "text/plain": [
       "[<matplotlib.lines.Line2D at 0xdb6ae10>]"
      ]
     },
     "execution_count": 45,
     "metadata": {},
     "output_type": "execute_result"
    },
    {
     "data": {
      "image/png": "[encoded data removed]",
      "text/plain": [
       "<matplotlib.figure.Figure at 0xcf74470>"
      ]
     },
     "metadata": {},
     "output_type": "display_data"
    }
   ],
   "source": [
    "iT = 100 # Numero de iteraciones\n",
    "alpha = 0.01\n",
    "beta = 0.5\n",
    "invbeta = 1/beta\n",
    "PHIT = PHI.T\n",
    "invSn = alpha*np.eye(M)+ beta*PHIT.dot(PHI)\n",
    "Sn = np.linalg.inv(invSn)\n",
    "mn = beta*Sn.dot(PHIT.dot(t))\n",
    "print mn.shape,Sn.shape\n",
    "\n",
    "# Probemos la estimacion con el mn inicial\n",
    "yEst = PHI.dot(mn)\n",
    "plt.plot(x,t,'or')\n",
    "plt.plot(x,yEst,'-')\n",
    "lambdaIp,vecI = np.linalg.eig(PHIT.dot(PHI))\n",
    "lambdaI = beta*lambdaIp\n",
    "#print lambdaI\n",
    "for j in range(0,iT):\n",
    "    gamma = np.sum(lambdaI/(alpha*np.ones(lambdaI.shape)+lambdaI))\n",
    "    alpha = gamma/((mn.T).dot(mn))\n",
    "    invbeta = (1/(N-gamma))*(((t-PHI.dot(mn)).T).dot(t-PHI.dot(mn)))\n",
    "    beta = 1/invbeta\n",
    "    lambdaI = beta*lambdaIp\n",
    "    invSn = alpha*np.eye(M)+ beta*PHIT.dot(PHI)\n",
    "    Sn = np.linalg.inv(invSn)\n",
    "    mn = beta*Sn.dot(PHIT.dot(t))\n",
    "    \n",
    "#print invSn \n",
    "yEstfin = PHI.dot(mn)\n",
    "plt.plot(x,t,'or')\n",
    "plt.plot(x,yEstfin,'-r')"
   ]
  },
  {
   "cell_type": "code",
   "execution_count": 33,
   "metadata": {
    "collapsed": false
   },
   "outputs": [
    {
     "name": "stdout",
     "output_type": "stream",
     "text": [
      "[[ 4.  5.  6.  7.]]\n",
      "[[ 0.25        0.4         0.5         0.57142857]]\n"
     ]
    }
   ],
   "source": [
    "vA = [1., 2., 3., 4.]\n",
    "vB = 3.*np.ones((1,4))+vA\n",
    "print vB \n",
    "vC = vA/vB\n",
    "print vC"
   ]
  },
  {
   "cell_type": "code",
   "execution_count": 38,
   "metadata": {
    "collapsed": false
   },
   "outputs": [
    {
     "data": {
      "text/plain": [
       "200L"
      ]
     },
     "execution_count": 38,
     "metadata": {},
     "output_type": "execute_result"
    }
   ],
   "source": [
    "N"
   ]
  },
  {
   "cell_type": "code",
   "execution_count": null,
   "metadata": {
    "collapsed": true
   },
   "outputs": [],
   "source": []
  }
 ],
 "metadata": {
  "kernelspec": {
   "display_name": "Python 2",
   "language": "python",
   "name": "python2"
  },
  "language_info": {
   "codemirror_mode": {
    "name": "ipython",
    "version": 2
   },
   "file_extension": ".py",
   "mimetype": "text/x-python",
   "name": "python",
   "nbconvert_exporter": "python",
   "pygments_lexer": "ipython2",
   "version": "2.7.13"
  }
 },
 "nbformat": 4,
 "nbformat_minor": 0
}
