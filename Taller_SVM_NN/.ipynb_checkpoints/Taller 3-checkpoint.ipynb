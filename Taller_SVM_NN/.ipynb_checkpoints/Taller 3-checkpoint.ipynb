{
 "cells": [
  {
   "cell_type": "markdown",
   "metadata": {},
   "source": [
    "# Taller_SVM_NN"
   ]
  },
  {
   "cell_type": "markdown",
   "metadata": {},
   "source": [
    "### Neural Networks\n",
    "\n",
    "Utilizando la base de datos Digits de sklearn, construir una red neuronal para clasificacion, que permita\n",
    "identificar diferentes tipos de dıgtos."
   ]
  },
  {
   "cell_type": "markdown",
   "metadata": {},
   "source": [
    "1) La base de datos a utilizar se encuentra en el modulo from sklearn.datasets import load digits"
   ]
  },
  {
   "cell_type": "code",
   "execution_count": 4,
   "metadata": {},
   "outputs": [],
   "source": [
    "#Import the all libraries for the notebook\n",
    "\n",
    "import numpy as np\n",
    "import matplotlib.pyplot as plt\n",
    "import scipy.io as sio\n",
    "import numpy.matlib as mat\n",
    "from sklearn import svm\n",
    "from sklearn.neural_network import MLPClassifier\n",
    "from sklearn.datasets import load_digits"
   ]
  },
  {
   "cell_type": "markdown",
   "metadata": {},
   "source": [
    "2) Investigue y utilice la funcion train test split para realizar la particion de la base de datos entre los\n",
    "conjuntos de Train y Test"
   ]
  },
  {
   "cell_type": "markdown",
   "metadata": {},
   "source": [
    "#### Train test split\n",
    "In scikit-learn a random split into training and test sets can be quickly computed with the train_test_split helper function."
   ]
  },
  {
   "cell_type": "code",
   "execution_count": 6,
   "metadata": {},
   "outputs": [],
   "source": [
    "from sklearn.model_selection import train_test_split"
   ]
  },
  {
   "cell_type": "code",
   "execution_count": 7,
   "metadata": {},
   "outputs": [
    {
     "name": "stdout",
     "output_type": "stream",
     "text": [
      "(1797L, 64L)\n"
     ]
    },
    {
     "data": {
      "text/plain": [
       "<matplotlib.figure.Figure at 0x9ef2240>"
      ]
     },
     "metadata": {},
     "output_type": "display_data"
    },
    {
     "data": {
      "image/png": "[encoded data removed]",
      "text/plain": [
       "<matplotlib.figure.Figure at 0x9ef2160>"
      ]
     },
     "metadata": {},
     "output_type": "display_data"
    }
   ],
   "source": [
    "digits = load_digits()\n",
    "print(digits.data.shape)\n",
    "plt.gray() \n",
    "plt.matshow(digits.images[0]) \n",
    "plt.show()\n",
    "\n",
    "caracteristicas = digits.data\n",
    "etiquetas = digits.target\n",
    "\n",
    "Xtrain, xtest, Ytrain, ytest = train_test_split(caracteristicas,etiquetas)"
   ]
  },
  {
   "cell_type": "markdown",
   "metadata": {},
   "source": [
    "3) Realice diferentes pruebas de configuracion de la red neuronal, con el fin de encontrar el mejor conjunto\n",
    "de parametros que realiza el reconocimiento (#-Capas, #-Neuronas por capa)."
   ]
  },
  {
   "cell_type": "markdown",
   "metadata": {},
   "source": [
    "### red_digits\n",
    "\n",
    "Al entrenar nuestra red neuronal con scikit-learn nos encontramos una gran variedad de parametros que nos permiten modelar y tener un mejor control sobre nuestros datos analisar, los parametros que se usaron para el entrenamiento de \"red_digits\" son unos valores estandar los cuales sólo modificaremos los más relevantes para poder encontrar un ajuste de Overfitting/Underfitting en nuestro modelo."
   ]
  },
  {
   "cell_type": "code",
   "execution_count": 41,
   "metadata": {},
   "outputs": [
    {
     "name": "stdout",
     "output_type": "stream",
     "text": [
      "La medida de desempeño es: \n"
     ]
    },
    {
     "data": {
      "text/plain": [
       "0.9222222222222223"
      ]
     },
     "execution_count": 41,
     "metadata": {},
     "output_type": "execute_result"
    }
   ],
   "source": [
    "red_digits = MLPClassifier(hidden_layer_sizes=(20), activation=\"relu\",\n",
    "                 solver='sgd', alpha=0.0001,\n",
    "                 batch_size='auto', learning_rate=\"constant\",\n",
    "                 learning_rate_init=0.001, power_t=0.5, max_iter=200,\n",
    "                 shuffle=True, random_state=None, tol=1e-4,\n",
    "                 verbose=False, warm_start=False, momentum=0.9,\n",
    "                 nesterovs_momentum=True, early_stopping=False,\n",
    "                 validation_fraction=0.1, beta_1=0.9, beta_2=0.999,\n",
    "                 epsilon=1e-8)\n",
    "\n",
    "red_digits.fit(Xtrain,Ytrain)\n",
    "\n",
    "print(\"La medida de desempeño es: \" )\n",
    "red_digits.score(xtest,ytest)"
   ]
  },
  {
   "cell_type": "markdown",
   "metadata": {},
   "source": [
    "Al cambiar de valores un conjunto de parametros que me puedan dar el reconocimiento (#-Capas, #-Neuronas por capa), encontramos: \n",
    "\n",
    "-La propia herramienta scikit-learn nos orienta a un punto de convergencia en la optimización de nuestros datos\n",
    "\n",
    "-La optimización estocastica va muy ligada del número de iteraciones máximas que utilicemos para entrenar la red.\n",
    "\n",
    "-Al rededor de un 0.92% o un % menor con los datos de test no tenemos una buena convergencia de la optimización.\n",
    "\n",
    "-Cambiando el número de capas ocultas y de iteraciones podemos encontrar una optimización estocastica queconverga para nuestra red neuronal.\n",
    "\n",
    "-El solver 'sgd' nos permite optimizar los pesos de nuestra red neuronal \"red_digits\" en base al gradiente descendiente \n",
    "\n",
    "-Tolerancia para la optimización. Cuando la pérdida o el puntaje no mejora al menos el valor de 'tol' durante dos iteraciones consecutivas, a menos que learning_rate se configure como 'adaptativo', se considera que se ha alcanzado la convergencia y se detiene el entrenamiento.\n",
    "\n"
   ]
  },
  {
   "cell_type": "markdown",
   "metadata": {},
   "source": [
    "4) reporte la matriz de confucion y el accuracy del modelo para las diferentes configuraciones de las redes\n",
    "encontradas."
   ]
  },
  {
   "cell_type": "code",
   "execution_count": 27,
   "metadata": {},
   "outputs": [
    {
     "name": "stdout",
     "output_type": "stream",
     "text": [
      "[0 1 2 ... 8 9 8]\n"
     ]
    }
   ],
   "source": [
    "y_pred = red_digits.predict(caracteristicas)\n",
    "print y_pred\n",
    "from sklearn.metrics import confusion_matrix\n",
    "cMat = confusion_matrix(etiquetas, y_pred)"
   ]
  },
  {
   "cell_type": "code",
   "execution_count": 30,
   "metadata": {},
   "outputs": [
    {
     "data": {
      "text/plain": [
       "array([[176,   0,   0,   0,   1,   1,   0,   0,   0,   0],\n",
       "       [  0, 180,   0,   0,   0,   1,   1,   0,   0,   0],\n",
       "       [  0,   0, 177,   0,   0,   0,   0,   0,   0,   0],\n",
       "       [  0,   0,   0, 181,   0,   1,   0,   0,   1,   0],\n",
       "       [  0,   0,   0,   0, 181,   0,   0,   0,   0,   0],\n",
       "       [  0,   0,   1,   0,   0, 180,   0,   0,   0,   1],\n",
       "       [  0,   0,   0,   0,   0,   0, 180,   0,   1,   0],\n",
       "       [  0,   0,   0,   0,   0,   2,   0, 177,   0,   0],\n",
       "       [  0,   5,   0,   0,   0,   2,   0,   1, 165,   1],\n",
       "       [  0,   0,   0,   0,   0,   2,   0,   2,   3, 173]], dtype=int64)"
      ]
     },
     "execution_count": 30,
     "metadata": {},
     "output_type": "execute_result"
    }
   ],
   "source": [
    "cMat.view()"
   ]
  },
  {
   "cell_type": "markdown",
   "metadata": {},
   "source": [
    "Medidas de desempeño en la redes encontradas:\n",
    "\n",
    "    -0.9466666666666667\n",
    "    -0.9511111111111111\n",
    "    -0.9355555555555556\n",
    "    -0.9333333333333333\n",
    "    -0.9222222222222223"
   ]
  }
 ],
 "metadata": {
  "kernelspec": {
   "display_name": "Python 2",
   "language": "python",
   "name": "python2"
  },
  "language_info": {
   "codemirror_mode": {
    "name": "ipython",
    "version": 2
   },
   "file_extension": ".py",
   "mimetype": "text/x-python",
   "name": "python",
   "nbconvert_exporter": "python",
   "pygments_lexer": "ipython2",
   "version": "2.7.14"
  }
 },
 "nbformat": 4,
 "nbformat_minor": 2
}
