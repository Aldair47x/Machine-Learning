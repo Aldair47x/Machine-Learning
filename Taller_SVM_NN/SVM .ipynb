{
 "cells": [
  {
   "cell_type": "markdown",
   "metadata": {},
   "source": [
    "# Support Vector Machines - Máquinas De Vectores Soporte (SVM)\n"
   ]
  },
  {
   "cell_type": "markdown",
   "metadata": {},
   "source": [
    "Construiremos cuatro tipos de SVM para clasificar un dataset clasico muy conocido *Wine Dataset*, el dataset de clases de vinos.\n",
    "Este dataset trae consigo 3 tipos de clases de vino, y un total de 178 instancias de estas instancias de vinos. Cada instancia trae 13 atributos y todos estos datos son reales positivos.\n",
    "\n",
    "A continuación, se muestra cuantas instancias trae el dataset de cada clase:\n",
    "- Clase 1: 59 instancias.\n",
    "- Clase 2: 71 instancias.\n",
    "- Clase 3: 48 instancias.\n",
    "\n",
    "Primero, importamos todas las librerias necesarias para utilizar ciertas funciones, como por ejemplo, la funcion para adquirir el dataset, la función para utilizar el SVM en su forma de clasificador (Support Vector Classification - SVC) y otras funciones necesarias para medir la eficacia de los clasificadores."
   ]
  },
  {
   "cell_type": "code",
   "execution_count": 1,
   "metadata": {
    "collapsed": true
   },
   "outputs": [],
   "source": [
    "from sklearn.datasets import load_wine\n",
    "from sklearn import svm\n",
    "from sklearn.model_selection import train_test_split\n",
    "from sklearn.metrics import confusion_matrix, accuracy_score"
   ]
  },
  {
   "cell_type": "markdown",
   "metadata": {},
   "source": [
    "Primero cargamos el dataset en una variable data. En esta variable quedan los datos, las etiquetas y una pequeña descripción del dataset."
   ]
  },
  {
   "cell_type": "code",
   "execution_count": 2,
   "metadata": {},
   "outputs": [
    {
     "name": "stdout",
     "output_type": "stream",
     "text": [
      "{'target_names': array(['class_0', 'class_1', 'class_2'],\n",
      "      dtype='|S7'), 'data': array([[  1.42300000e+01,   1.71000000e+00,   2.43000000e+00, ...,\n",
      "          1.04000000e+00,   3.92000000e+00,   1.06500000e+03],\n",
      "       [  1.32000000e+01,   1.78000000e+00,   2.14000000e+00, ...,\n",
      "          1.05000000e+00,   3.40000000e+00,   1.05000000e+03],\n",
      "       [  1.31600000e+01,   2.36000000e+00,   2.67000000e+00, ...,\n",
      "          1.03000000e+00,   3.17000000e+00,   1.18500000e+03],\n",
      "       ..., \n",
      "       [  1.32700000e+01,   4.28000000e+00,   2.26000000e+00, ...,\n",
      "          5.90000000e-01,   1.56000000e+00,   8.35000000e+02],\n",
      "       [  1.31700000e+01,   2.59000000e+00,   2.37000000e+00, ...,\n",
      "          6.00000000e-01,   1.62000000e+00,   8.40000000e+02],\n",
      "       [  1.41300000e+01,   4.10000000e+00,   2.74000000e+00, ...,\n",
      "          6.10000000e-01,   1.60000000e+00,   5.60000000e+02]]), 'target': array([0, 0, 0, 0, 0, 0, 0, 0, 0, 0, 0, 0, 0, 0, 0, 0, 0, 0, 0, 0, 0, 0, 0,\n",
      "       0, 0, 0, 0, 0, 0, 0, 0, 0, 0, 0, 0, 0, 0, 0, 0, 0, 0, 0, 0, 0, 0, 0,\n",
      "       0, 0, 0, 0, 0, 0, 0, 0, 0, 0, 0, 0, 0, 1, 1, 1, 1, 1, 1, 1, 1, 1, 1,\n",
      "       1, 1, 1, 1, 1, 1, 1, 1, 1, 1, 1, 1, 1, 1, 1, 1, 1, 1, 1, 1, 1, 1, 1,\n",
      "       1, 1, 1, 1, 1, 1, 1, 1, 1, 1, 1, 1, 1, 1, 1, 1, 1, 1, 1, 1, 1, 1, 1,\n",
      "       1, 1, 1, 1, 1, 1, 1, 1, 1, 1, 1, 1, 1, 1, 1, 2, 2, 2, 2, 2, 2, 2, 2,\n",
      "       2, 2, 2, 2, 2, 2, 2, 2, 2, 2, 2, 2, 2, 2, 2, 2, 2, 2, 2, 2, 2, 2, 2,\n",
      "       2, 2, 2, 2, 2, 2, 2, 2, 2, 2, 2, 2, 2, 2, 2, 2, 2]), 'DESCR': 'Wine Data Database\\n====================\\n\\nNotes\\n-----\\nData Set Characteristics:\\n    :Number of Instances: 178 (50 in each of three classes)\\n    :Number of Attributes: 13 numeric, predictive attributes and the class\\n    :Attribute Information:\\n \\t\\t- 1) Alcohol\\n \\t\\t- 2) Malic acid\\n \\t\\t- 3) Ash\\n\\t\\t- 4) Alcalinity of ash  \\n \\t\\t- 5) Magnesium\\n\\t\\t- 6) Total phenols\\n \\t\\t- 7) Flavanoids\\n \\t\\t- 8) Nonflavanoid phenols\\n \\t\\t- 9) Proanthocyanins\\n\\t\\t- 10)Color intensity\\n \\t\\t- 11)Hue\\n \\t\\t- 12)OD280/OD315 of diluted wines\\n \\t\\t- 13)Proline\\n        \\t- class:\\n                - class_0\\n                - class_1\\n                - class_2\\n\\t\\t\\n    :Summary Statistics:\\n    \\n    ============================= ==== ===== ======= =====\\n                                   Min   Max   Mean     SD\\n    ============================= ==== ===== ======= =====\\n    Alcohol:                      11.0  14.8    13.0   0.8\\n    Malic Acid:                   0.74  5.80    2.34  1.12\\n    Ash:                          1.36  3.23    2.36  0.27\\n    Alcalinity of Ash:            10.6  30.0    19.5   3.3\\n    Magnesium:                    70.0 162.0    99.7  14.3\\n    Total Phenols:                0.98  3.88    2.29  0.63\\n    Flavanoids:                   0.34  5.08    2.03  1.00\\n    Nonflavanoid Phenols:         0.13  0.66    0.36  0.12\\n    Proanthocyanins:              0.41  3.58    1.59  0.57\\n    Colour Intensity:              1.3  13.0     5.1   2.3\\n    Hue:                          0.48  1.71    0.96  0.23\\n    OD280/OD315 of diluted wines: 1.27  4.00    2.61  0.71\\n    Proline:                       278  1680     746   315\\n    ============================= ==== ===== ======= =====\\n\\n    :Missing Attribute Values: None\\n    :Class Distribution: class_0 (59), class_1 (71), class_2 (48)\\n    :Creator: R.A. Fisher\\n    :Donor: Michael Marshall (MARSHALL%PLU@io.arc.nasa.gov)\\n    :Date: July, 1988\\n\\nThis is a copy of UCI ML Wine recognition datasets.\\nhttps://archive.ics.uci.edu/ml/machine-learning-databases/wine/wine.data\\n\\nThe data is the results of a chemical analysis of wines grown in the same\\nregion in Italy by three different cultivators. There are thirteen different\\nmeasurements taken for different constituents found in the three types of\\nwine.\\n\\nOriginal Owners: \\n\\nForina, M. et al, PARVUS - \\nAn Extendible Package for Data Exploration, Classification and Correlation. \\nInstitute of Pharmaceutical and Food Analysis and Technologies,\\nVia Brigata Salerno, 16147 Genoa, Italy.\\n\\nCitation:\\n\\nLichman, M. (2013). UCI Machine Learning Repository\\n[http://archive.ics.uci.edu/ml]. Irvine, CA: University of California,\\nSchool of Information and Computer Science. \\n\\nReferences\\n----------\\n(1) \\nS. Aeberhard, D. Coomans and O. de Vel, \\nComparison of Classifiers in High Dimensional Settings, \\nTech. Rep. no. 92-02, (1992), Dept. of Computer Science and Dept. of \\nMathematics and Statistics, James Cook University of North Queensland. \\n(Also submitted to Technometrics). \\n\\nThe data was used with many others for comparing various \\nclassifiers. The classes are separable, though only RDA \\nhas achieved 100% correct classification. \\n(RDA : 100%, QDA 99.4%, LDA 98.9%, 1NN 96.1% (z-transformed data)) \\n(All results using the leave-one-out technique) \\n\\n(2) \\nS. Aeberhard, D. Coomans and O. de Vel, \\n\"THE CLASSIFICATION PERFORMANCE OF RDA\" \\nTech. Rep. no. 92-01, (1992), Dept. of Computer Science and Dept. of \\nMathematics and Statistics, James Cook University of North Queensland. \\n(Also submitted to Journal of Chemometrics). \\n', 'feature_names': ['alcohol', 'malic_acid', 'ash', 'alcalinity_of_ash', 'magnesium', 'total_phenols', 'flavanoids', 'nonflavanoid_phenols', 'proanthocyanins', 'color_intensity', 'hue', 'od280/od315_of_diluted_wines', 'proline']}\n"
     ]
    }
   ],
   "source": [
    "data = load_wine()\n",
    "print(data)"
   ]
  },
  {
   "cell_type": "markdown",
   "metadata": {},
   "source": [
    "Cargamos en una variable, unicamente los datos y en otra unicamente las etiquetas para empezar el proceso de clasificación."
   ]
  },
  {
   "cell_type": "code",
   "execution_count": 3,
   "metadata": {},
   "outputs": [
    {
     "name": "stdout",
     "output_type": "stream",
     "text": [
      "[[  1.42300000e+01   1.71000000e+00   2.43000000e+00 ...,   1.04000000e+00\n",
      "    3.92000000e+00   1.06500000e+03]\n",
      " [  1.32000000e+01   1.78000000e+00   2.14000000e+00 ...,   1.05000000e+00\n",
      "    3.40000000e+00   1.05000000e+03]\n",
      " [  1.31600000e+01   2.36000000e+00   2.67000000e+00 ...,   1.03000000e+00\n",
      "    3.17000000e+00   1.18500000e+03]\n",
      " ..., \n",
      " [  1.32700000e+01   4.28000000e+00   2.26000000e+00 ...,   5.90000000e-01\n",
      "    1.56000000e+00   8.35000000e+02]\n",
      " [  1.31700000e+01   2.59000000e+00   2.37000000e+00 ...,   6.00000000e-01\n",
      "    1.62000000e+00   8.40000000e+02]\n",
      " [  1.41300000e+01   4.10000000e+00   2.74000000e+00 ...,   6.10000000e-01\n",
      "    1.60000000e+00   5.60000000e+02]]\n"
     ]
    }
   ],
   "source": [
    "X = data['data']\n",
    "print X"
   ]
  },
  {
   "cell_type": "code",
   "execution_count": 4,
   "metadata": {},
   "outputs": [
    {
     "name": "stdout",
     "output_type": "stream",
     "text": [
      "[0 0 0 0 0 0 0 0 0 0 0 0 0 0 0 0 0 0 0 0 0 0 0 0 0 0 0 0 0 0 0 0 0 0 0 0 0\n",
      " 0 0 0 0 0 0 0 0 0 0 0 0 0 0 0 0 0 0 0 0 0 0 1 1 1 1 1 1 1 1 1 1 1 1 1 1 1\n",
      " 1 1 1 1 1 1 1 1 1 1 1 1 1 1 1 1 1 1 1 1 1 1 1 1 1 1 1 1 1 1 1 1 1 1 1 1 1\n",
      " 1 1 1 1 1 1 1 1 1 1 1 1 1 1 1 1 1 1 1 2 2 2 2 2 2 2 2 2 2 2 2 2 2 2 2 2 2\n",
      " 2 2 2 2 2 2 2 2 2 2 2 2 2 2 2 2 2 2 2 2 2 2 2 2 2 2 2 2 2 2]\n"
     ]
    }
   ],
   "source": [
    "t = data['target']\n",
    "print t"
   ]
  },
  {
   "cell_type": "markdown",
   "metadata": {},
   "source": [
    "En esta parte hacemos uso, de una función de gran ayuda, que nos permite separar nuestros datos y etiquetas, en una porción para entrenamiento (X_train, t_Train) y el resto de porcion para testeo (X_test, t_test). Los separamos de manera que quede el 70% de los datos en entrenamiento y el 30% restante en testeo. Esto lo comprobamos en la cantidad de las filas de nuestros datos. Usaremos los mismos datos de entrenamiento y test en todas las instancias de las SVC."
   ]
  },
  {
   "cell_type": "code",
   "execution_count": 5,
   "metadata": {},
   "outputs": [
    {
     "name": "stdout",
     "output_type": "stream",
     "text": [
      "(178L, 13L) (124L, 13L) (54L, 13L)\n",
      "(178L,) (124L,) (54L,)\n"
     ]
    }
   ],
   "source": [
    "X_train, X_test, t_train, t_test = train_test_split(X, t, test_size=0.3)\n",
    "print X.shape, X_train.shape, X_test.shape\n",
    "print t.shape, t_train.shape, t_test.shape"
   ]
  },
  {
   "cell_type": "markdown",
   "metadata": {},
   "source": [
    "## SVC con kernel lineal"
   ]
  },
  {
   "cell_type": "markdown",
   "metadata": {},
   "source": [
    "Construimos el SVC con un kernel lineal definido como {x, x'}. Lo entrenamos con los datos y etiquetas de entrenamiento (X_train, t_train) y testeamos con los datos de test (X_test) y este nos devuelve unas etiquetas que predice el SVC (t_pred), a estas etiquetas procederemos a compararla con las etiquetas de test (t_test)."
   ]
  },
  {
   "cell_type": "code",
   "execution_count": 6,
   "metadata": {},
   "outputs": [
    {
     "name": "stdout",
     "output_type": "stream",
     "text": [
      "[0 2 0 0 1 0 0 2 0 2 2 1 0 0 0 1 2 2 0 0 0 2 2 1 2 2 2 2 1 1 0 2 1 1 1 0 0\n",
      " 2 2 1 1 1 1 0 2 1 2 2 1 1 1 1 1 0] [0 2 0 0 1 0 0 2 0 2 2 1 0 0 0 1 2 2 0 0 0 2 2 1 2 2 2 2 1 1 0 2 1 1 1 0 0\n",
      " 2 1 1 1 1 1 0 2 1 2 2 1 1 1 1 1 0]\n"
     ]
    }
   ],
   "source": [
    "linear_svc = svm.SVC(kernel='linear')\n",
    "linear_svc.fit(X_train, t_train)\n",
    "t_pred = linear_svc.predict(X_test)\n",
    "print t_pred, t_test"
   ]
  },
  {
   "cell_type": "markdown",
   "metadata": {},
   "source": [
    "Creamos una matriz de confusión para que nos muestre de manera mas grafica, y estos nos dice que la SVC con kernel lineal, clasifico lo siguiente\n",
    "\n",
    "| Clase | Correcto | Incorrecto |\n",
    "|-------|----------|------------|\n",
    "| 1     |     17   |      1     |\n",
    "| 2     |    13    |     4      |\n",
    "| 3     |    17    |     2      |\n",
    "\n",
    "Correspondiendo esto a una efectividad del 87.03%"
   ]
  },
  {
   "cell_type": "code",
   "execution_count": 7,
   "metadata": {},
   "outputs": [
    {
     "data": {
      "text/plain": [
       "array([[17,  0,  0],\n",
       "       [ 0, 19,  1],\n",
       "       [ 0,  0, 17]], dtype=int64)"
      ]
     },
     "execution_count": 7,
     "metadata": {},
     "output_type": "execute_result"
    }
   ],
   "source": [
    "confusion_matrix(t_test, t_pred)"
   ]
  },
  {
   "cell_type": "code",
   "execution_count": 8,
   "metadata": {},
   "outputs": [
    {
     "data": {
      "text/plain": [
       "0.98148148148148151"
      ]
     },
     "execution_count": 8,
     "metadata": {},
     "output_type": "execute_result"
    }
   ],
   "source": [
    "accuracy_score(t_test, t_pred)"
   ]
  },
  {
   "cell_type": "markdown",
   "metadata": {},
   "source": [
    "Por ultimo, mostramos los vectores de soporte"
   ]
  },
  {
   "cell_type": "code",
   "execution_count": 9,
   "metadata": {},
   "outputs": [
    {
     "data": {
      "text/plain": [
       "array([[  1.30500000e+01,   1.77000000e+00,   2.10000000e+00,\n",
       "          1.70000000e+01,   1.07000000e+02,   3.00000000e+00,\n",
       "          3.00000000e+00,   2.80000000e-01,   2.03000000e+00,\n",
       "          5.04000000e+00,   8.80000000e-01,   3.35000000e+00,\n",
       "          8.85000000e+02],\n",
       "       [  1.30500000e+01,   2.05000000e+00,   3.22000000e+00,\n",
       "          2.50000000e+01,   1.24000000e+02,   2.63000000e+00,\n",
       "          2.68000000e+00,   4.70000000e-01,   1.92000000e+00,\n",
       "          3.58000000e+00,   1.13000000e+00,   3.20000000e+00,\n",
       "          8.30000000e+02],\n",
       "       [  1.35000000e+01,   1.81000000e+00,   2.61000000e+00,\n",
       "          2.00000000e+01,   9.60000000e+01,   2.53000000e+00,\n",
       "          2.61000000e+00,   2.80000000e-01,   1.66000000e+00,\n",
       "          3.52000000e+00,   1.12000000e+00,   3.82000000e+00,\n",
       "          8.45000000e+02],\n",
       "       [  1.32400000e+01,   3.98000000e+00,   2.29000000e+00,\n",
       "          1.75000000e+01,   1.03000000e+02,   2.64000000e+00,\n",
       "          2.63000000e+00,   3.20000000e-01,   1.66000000e+00,\n",
       "          4.36000000e+00,   8.20000000e-01,   3.00000000e+00,\n",
       "          6.80000000e+02],\n",
       "       [  1.30500000e+01,   3.86000000e+00,   2.32000000e+00,\n",
       "          2.25000000e+01,   8.50000000e+01,   1.65000000e+00,\n",
       "          1.59000000e+00,   6.10000000e-01,   1.62000000e+00,\n",
       "          4.80000000e+00,   8.40000000e-01,   2.01000000e+00,\n",
       "          5.15000000e+02],\n",
       "       [  1.24700000e+01,   1.52000000e+00,   2.20000000e+00,\n",
       "          1.90000000e+01,   1.62000000e+02,   2.50000000e+00,\n",
       "          2.27000000e+00,   3.20000000e-01,   3.28000000e+00,\n",
       "          2.60000000e+00,   1.16000000e+00,   2.63000000e+00,\n",
       "          9.37000000e+02],\n",
       "       [  1.23300000e+01,   1.10000000e+00,   2.28000000e+00,\n",
       "          1.60000000e+01,   1.01000000e+02,   2.05000000e+00,\n",
       "          1.09000000e+00,   6.30000000e-01,   4.10000000e-01,\n",
       "          3.27000000e+00,   1.25000000e+00,   1.67000000e+00,\n",
       "          6.80000000e+02],\n",
       "       [  1.27200000e+01,   1.81000000e+00,   2.20000000e+00,\n",
       "          1.88000000e+01,   8.60000000e+01,   2.20000000e+00,\n",
       "          2.53000000e+00,   2.60000000e-01,   1.77000000e+00,\n",
       "          3.90000000e+00,   1.16000000e+00,   3.14000000e+00,\n",
       "          7.14000000e+02],\n",
       "       [  1.18100000e+01,   2.12000000e+00,   2.74000000e+00,\n",
       "          2.15000000e+01,   1.34000000e+02,   1.60000000e+00,\n",
       "          9.90000000e-01,   1.40000000e-01,   1.56000000e+00,\n",
       "          2.50000000e+00,   9.50000000e-01,   2.26000000e+00,\n",
       "          6.25000000e+02],\n",
       "       [  1.29900000e+01,   1.67000000e+00,   2.60000000e+00,\n",
       "          3.00000000e+01,   1.39000000e+02,   3.30000000e+00,\n",
       "          2.89000000e+00,   2.10000000e-01,   1.96000000e+00,\n",
       "          3.35000000e+00,   1.31000000e+00,   3.50000000e+00,\n",
       "          9.85000000e+02],\n",
       "       [  1.26400000e+01,   1.36000000e+00,   2.02000000e+00,\n",
       "          1.68000000e+01,   1.00000000e+02,   2.02000000e+00,\n",
       "          1.41000000e+00,   5.30000000e-01,   6.20000000e-01,\n",
       "          5.75000000e+00,   9.80000000e-01,   1.59000000e+00,\n",
       "          4.50000000e+02],\n",
       "       [  1.28400000e+01,   2.96000000e+00,   2.61000000e+00,\n",
       "          2.40000000e+01,   1.01000000e+02,   2.32000000e+00,\n",
       "          6.00000000e-01,   5.30000000e-01,   8.10000000e-01,\n",
       "          4.92000000e+00,   8.90000000e-01,   2.15000000e+00,\n",
       "          5.90000000e+02],\n",
       "       [  1.28600000e+01,   1.35000000e+00,   2.32000000e+00,\n",
       "          1.80000000e+01,   1.22000000e+02,   1.51000000e+00,\n",
       "          1.25000000e+00,   2.10000000e-01,   9.40000000e-01,\n",
       "          4.10000000e+00,   7.60000000e-01,   1.29000000e+00,\n",
       "          6.30000000e+02],\n",
       "       [  1.29300000e+01,   2.81000000e+00,   2.70000000e+00,\n",
       "          2.10000000e+01,   9.60000000e+01,   1.54000000e+00,\n",
       "          5.00000000e-01,   5.30000000e-01,   7.50000000e-01,\n",
       "          4.60000000e+00,   7.70000000e-01,   2.31000000e+00,\n",
       "          6.00000000e+02],\n",
       "       [  1.22500000e+01,   3.88000000e+00,   2.20000000e+00,\n",
       "          1.85000000e+01,   1.12000000e+02,   1.38000000e+00,\n",
       "          7.80000000e-01,   2.90000000e-01,   1.14000000e+00,\n",
       "          8.21000000e+00,   6.50000000e-01,   2.00000000e+00,\n",
       "          8.55000000e+02],\n",
       "       [  1.36200000e+01,   4.95000000e+00,   2.35000000e+00,\n",
       "          2.00000000e+01,   9.20000000e+01,   2.00000000e+00,\n",
       "          8.00000000e-01,   4.70000000e-01,   1.02000000e+00,\n",
       "          4.40000000e+00,   9.10000000e-01,   2.05000000e+00,\n",
       "          5.50000000e+02],\n",
       "       [  1.31600000e+01,   3.57000000e+00,   2.15000000e+00,\n",
       "          2.10000000e+01,   1.02000000e+02,   1.50000000e+00,\n",
       "          5.50000000e-01,   4.30000000e-01,   1.30000000e+00,\n",
       "          4.00000000e+00,   6.00000000e-01,   1.68000000e+00,\n",
       "          8.30000000e+02]])"
      ]
     },
     "execution_count": 9,
     "metadata": {},
     "output_type": "execute_result"
    }
   ],
   "source": [
    "linear_svc.support_vectors_ "
   ]
  },
  {
   "cell_type": "markdown",
   "metadata": {},
   "source": [
    "## SVC con kernel rbf"
   ]
  },
  {
   "cell_type": "markdown",
   "metadata": {},
   "source": [
    "Ahora haremos la clasificacion pero con un kernel rbf, que esta definido como exp(-gamma ||x-x'||^2). En esta SVC tenemos gamma con un valor predefinido de 1/n donde n es la cantidad de instancias del X_train. Y hacemos el mismo proceso de entrenamiento y evaluación."
   ]
  },
  {
   "cell_type": "code",
   "execution_count": 10,
   "metadata": {},
   "outputs": [
    {
     "name": "stdout",
     "output_type": "stream",
     "text": [
      "[1 1 1 1 1 1 1 1 1 1 1 1 1 1 1 1 1 1 1 0 1 1 1 1 1 1 1 1 1 1 1 1 1 1 1 1 1\n",
      " 1 1 1 1 1 1 1 1 1 1 2 1 1 1 1 1 1] [0 2 0 0 1 0 0 2 0 2 2 1 0 0 0 1 2 2 0 0 0 2 2 1 2 2 2 2 1 1 0 2 1 1 1 0 0\n",
      " 2 1 1 1 1 1 0 2 1 2 2 1 1 1 1 1 0]\n"
     ]
    }
   ],
   "source": [
    "rbf_svc = svm.SVC(kernel='rbf')\n",
    "rbf_svc.fit(X_train, t_train)\n",
    "t_pred = rbf_svc.predict(X_test)\n",
    "print t_pred, t_test"
   ]
  },
  {
   "cell_type": "markdown",
   "metadata": {},
   "source": [
    "La matriz de confusión nos dice lo siguiente:\n",
    "\n",
    "| Clase | Correcto | Incorrecto |\n",
    "|-------|----------|------------|\n",
    "| 1     |     18   |      0     |\n",
    "| 2     |    0    |     17      |\n",
    "| 3     |    0    |     19      |\n",
    "\n",
    "Correspondiendo esto a una efectividad del 3.15%"
   ]
  },
  {
   "cell_type": "code",
   "execution_count": 11,
   "metadata": {},
   "outputs": [
    {
     "data": {
      "text/plain": [
       "array([[ 1, 16,  0],\n",
       "       [ 0, 20,  0],\n",
       "       [ 0, 16,  1]], dtype=int64)"
      ]
     },
     "execution_count": 11,
     "metadata": {},
     "output_type": "execute_result"
    }
   ],
   "source": [
    "confusion_matrix(t_test, t_pred)"
   ]
  },
  {
   "cell_type": "code",
   "execution_count": 12,
   "metadata": {},
   "outputs": [
    {
     "data": {
      "text/plain": [
       "0.40740740740740738"
      ]
     },
     "execution_count": 12,
     "metadata": {},
     "output_type": "execute_result"
    }
   ],
   "source": [
    "accuracy_score(t_test, t_pred)"
   ]
  },
  {
   "cell_type": "markdown",
   "metadata": {},
   "source": [
    "Y los vectores de soporte"
   ]
  },
  {
   "cell_type": "code",
   "execution_count": 13,
   "metadata": {},
   "outputs": [
    {
     "data": {
      "text/plain": [
       "array([[  1.30500000e+01,   1.77000000e+00,   2.10000000e+00, ...,\n",
       "          8.80000000e-01,   3.35000000e+00,   8.85000000e+02],\n",
       "       [  1.35800000e+01,   1.66000000e+00,   2.36000000e+00, ...,\n",
       "          1.09000000e+00,   2.88000000e+00,   1.51500000e+03],\n",
       "       [  1.33900000e+01,   1.77000000e+00,   2.62000000e+00, ...,\n",
       "          9.20000000e-01,   3.22000000e+00,   1.19500000e+03],\n",
       "       ..., \n",
       "       [  1.33200000e+01,   3.24000000e+00,   2.38000000e+00, ...,\n",
       "          5.50000000e-01,   1.62000000e+00,   6.50000000e+02],\n",
       "       [  1.25800000e+01,   1.29000000e+00,   2.10000000e+00, ...,\n",
       "          5.80000000e-01,   1.55000000e+00,   6.40000000e+02],\n",
       "       [  1.31600000e+01,   3.57000000e+00,   2.15000000e+00, ...,\n",
       "          6.00000000e-01,   1.68000000e+00,   8.30000000e+02]])"
      ]
     },
     "execution_count": 13,
     "metadata": {},
     "output_type": "execute_result"
    }
   ],
   "source": [
    "rbf_svc.support_vectors_ "
   ]
  },
  {
   "cell_type": "markdown",
   "metadata": {},
   "source": [
    "## SVC con kernel polinomial"
   ]
  },
  {
   "cell_type": "markdown",
   "metadata": {
    "collapsed": true
   },
   "source": [
    "Siguiendo el proceso, ahora la clasificacion pero con un kernel polinomial, que esta definido como (gamma {x, x'} + r)^d. Donde d es definido como degree, r como coef0.Los cuales los dejamos por defecto que son degree igual a 3 y coef0 = 0.0 .En esta SVC tenemos gamma con un valor predefinido de 1/n donde n es la cantidad de instancias del X_train. Y hacemos el mismo proceso de entrenamiento y evaluación."
   ]
  },
  {
   "cell_type": "code",
   "execution_count": 14,
   "metadata": {},
   "outputs": [
    {
     "name": "stdout",
     "output_type": "stream",
     "text": [
      "[0 2 0 0 1 0 0 2 0 2 2 1 0 0 0 1 1 2 0 0 0 1 2 1 2 2 2 2 1 1 0 2 1 1 1 0 0\n",
      " 2 1 1 1 1 1 0 2 1 2 2 1 1 1 1 1 0] [0 2 0 0 1 0 0 2 0 2 2 1 0 0 0 1 2 2 0 0 0 2 2 1 2 2 2 2 1 1 0 2 1 1 1 0 0\n",
      " 2 1 1 1 1 1 0 2 1 2 2 1 1 1 1 1 0]\n"
     ]
    }
   ],
   "source": [
    "poly_svc = svm.SVC(kernel='poly')\n",
    "poly_svc.fit(X_train, t_train)\n",
    "t_pred = poly_svc.predict(X_test)\n",
    "print t_pred, t_test"
   ]
  },
  {
   "cell_type": "markdown",
   "metadata": {},
   "source": [
    "La matriz de confusión nos dice lo siguiente:\n",
    "\n",
    "| Clase | Correcto | Incorrecto |\n",
    "|-------|----------|------------|\n",
    "| 1     |     18   |      0     |\n",
    "| 2     |    13    |     3      |\n",
    "| 3     |    16    |     1      |\n",
    "\n",
    "Correspondiendo esto a una efectividad del 87.03%"
   ]
  },
  {
   "cell_type": "code",
   "execution_count": 15,
   "metadata": {},
   "outputs": [
    {
     "data": {
      "text/plain": [
       "array([[17,  0,  0],\n",
       "       [ 0, 20,  0],\n",
       "       [ 0,  2, 15]], dtype=int64)"
      ]
     },
     "execution_count": 15,
     "metadata": {},
     "output_type": "execute_result"
    }
   ],
   "source": [
    "confusion_matrix(t_test, t_pred)"
   ]
  },
  {
   "cell_type": "code",
   "execution_count": 16,
   "metadata": {},
   "outputs": [
    {
     "data": {
      "text/plain": [
       "0.96296296296296291"
      ]
     },
     "execution_count": 16,
     "metadata": {},
     "output_type": "execute_result"
    }
   ],
   "source": [
    "accuracy_score(t_test, t_pred)"
   ]
  },
  {
   "cell_type": "markdown",
   "metadata": {
    "collapsed": true
   },
   "source": [
    "Los vecotres de soporte de la SVC"
   ]
  },
  {
   "cell_type": "code",
   "execution_count": 17,
   "metadata": {},
   "outputs": [
    {
     "data": {
      "text/plain": [
       "array([[  1.35800000e+01,   1.66000000e+00,   2.36000000e+00,\n",
       "          1.91000000e+01,   1.06000000e+02,   2.86000000e+00,\n",
       "          3.19000000e+00,   2.20000000e-01,   1.95000000e+00,\n",
       "          6.90000000e+00,   1.09000000e+00,   2.88000000e+00,\n",
       "          1.51500000e+03],\n",
       "       [  1.33000000e+01,   1.72000000e+00,   2.14000000e+00,\n",
       "          1.70000000e+01,   9.40000000e+01,   2.40000000e+00,\n",
       "          2.19000000e+00,   2.70000000e-01,   1.35000000e+00,\n",
       "          3.95000000e+00,   1.02000000e+00,   2.77000000e+00,\n",
       "          1.28500000e+03],\n",
       "       [  1.30500000e+01,   2.05000000e+00,   3.22000000e+00,\n",
       "          2.50000000e+01,   1.24000000e+02,   2.63000000e+00,\n",
       "          2.68000000e+00,   4.70000000e-01,   1.92000000e+00,\n",
       "          3.58000000e+00,   1.13000000e+00,   3.20000000e+00,\n",
       "          8.30000000e+02],\n",
       "       [  1.35000000e+01,   1.81000000e+00,   2.61000000e+00,\n",
       "          2.00000000e+01,   9.60000000e+01,   2.53000000e+00,\n",
       "          2.61000000e+00,   2.80000000e-01,   1.66000000e+00,\n",
       "          3.52000000e+00,   1.12000000e+00,   3.82000000e+00,\n",
       "          8.45000000e+02],\n",
       "       [  1.30700000e+01,   1.50000000e+00,   2.10000000e+00,\n",
       "          1.55000000e+01,   9.80000000e+01,   2.40000000e+00,\n",
       "          2.64000000e+00,   2.80000000e-01,   1.37000000e+00,\n",
       "          3.70000000e+00,   1.18000000e+00,   2.69000000e+00,\n",
       "          1.02000000e+03],\n",
       "       [  1.32400000e+01,   3.98000000e+00,   2.29000000e+00,\n",
       "          1.75000000e+01,   1.03000000e+02,   2.64000000e+00,\n",
       "          2.63000000e+00,   3.20000000e-01,   1.66000000e+00,\n",
       "          4.36000000e+00,   8.20000000e-01,   3.00000000e+00,\n",
       "          6.80000000e+02],\n",
       "       [  1.30500000e+01,   3.86000000e+00,   2.32000000e+00,\n",
       "          2.25000000e+01,   8.50000000e+01,   1.65000000e+00,\n",
       "          1.59000000e+00,   6.10000000e-01,   1.62000000e+00,\n",
       "          4.80000000e+00,   8.40000000e-01,   2.01000000e+00,\n",
       "          5.15000000e+02],\n",
       "       [  1.24700000e+01,   1.52000000e+00,   2.20000000e+00,\n",
       "          1.90000000e+01,   1.62000000e+02,   2.50000000e+00,\n",
       "          2.27000000e+00,   3.20000000e-01,   3.28000000e+00,\n",
       "          2.60000000e+00,   1.16000000e+00,   2.63000000e+00,\n",
       "          9.37000000e+02],\n",
       "       [  1.23300000e+01,   1.10000000e+00,   2.28000000e+00,\n",
       "          1.60000000e+01,   1.01000000e+02,   2.05000000e+00,\n",
       "          1.09000000e+00,   6.30000000e-01,   4.10000000e-01,\n",
       "          3.27000000e+00,   1.25000000e+00,   1.67000000e+00,\n",
       "          6.80000000e+02],\n",
       "       [  1.27200000e+01,   1.81000000e+00,   2.20000000e+00,\n",
       "          1.88000000e+01,   8.60000000e+01,   2.20000000e+00,\n",
       "          2.53000000e+00,   2.60000000e-01,   1.77000000e+00,\n",
       "          3.90000000e+00,   1.16000000e+00,   3.14000000e+00,\n",
       "          7.14000000e+02],\n",
       "       [  1.18100000e+01,   2.12000000e+00,   2.74000000e+00,\n",
       "          2.15000000e+01,   1.34000000e+02,   1.60000000e+00,\n",
       "          9.90000000e-01,   1.40000000e-01,   1.56000000e+00,\n",
       "          2.50000000e+00,   9.50000000e-01,   2.26000000e+00,\n",
       "          6.25000000e+02],\n",
       "       [  1.29900000e+01,   1.67000000e+00,   2.60000000e+00,\n",
       "          3.00000000e+01,   1.39000000e+02,   3.30000000e+00,\n",
       "          2.89000000e+00,   2.10000000e-01,   1.96000000e+00,\n",
       "          3.35000000e+00,   1.31000000e+00,   3.50000000e+00,\n",
       "          9.85000000e+02],\n",
       "       [  1.26400000e+01,   1.36000000e+00,   2.02000000e+00,\n",
       "          1.68000000e+01,   1.00000000e+02,   2.02000000e+00,\n",
       "          1.41000000e+00,   5.30000000e-01,   6.20000000e-01,\n",
       "          5.75000000e+00,   9.80000000e-01,   1.59000000e+00,\n",
       "          4.50000000e+02],\n",
       "       [  1.28400000e+01,   2.96000000e+00,   2.61000000e+00,\n",
       "          2.40000000e+01,   1.01000000e+02,   2.32000000e+00,\n",
       "          6.00000000e-01,   5.30000000e-01,   8.10000000e-01,\n",
       "          4.92000000e+00,   8.90000000e-01,   2.15000000e+00,\n",
       "          5.90000000e+02],\n",
       "       [  1.28600000e+01,   1.35000000e+00,   2.32000000e+00,\n",
       "          1.80000000e+01,   1.22000000e+02,   1.51000000e+00,\n",
       "          1.25000000e+00,   2.10000000e-01,   9.40000000e-01,\n",
       "          4.10000000e+00,   7.60000000e-01,   1.29000000e+00,\n",
       "          6.30000000e+02],\n",
       "       [  1.38800000e+01,   5.04000000e+00,   2.23000000e+00,\n",
       "          2.00000000e+01,   8.00000000e+01,   9.80000000e-01,\n",
       "          3.40000000e-01,   4.00000000e-01,   6.80000000e-01,\n",
       "          4.90000000e+00,   5.80000000e-01,   1.33000000e+00,\n",
       "          4.15000000e+02],\n",
       "       [  1.22500000e+01,   3.88000000e+00,   2.20000000e+00,\n",
       "          1.85000000e+01,   1.12000000e+02,   1.38000000e+00,\n",
       "          7.80000000e-01,   2.90000000e-01,   1.14000000e+00,\n",
       "          8.21000000e+00,   6.50000000e-01,   2.00000000e+00,\n",
       "          8.55000000e+02],\n",
       "       [  1.24500000e+01,   3.03000000e+00,   2.64000000e+00,\n",
       "          2.70000000e+01,   9.70000000e+01,   1.90000000e+00,\n",
       "          5.80000000e-01,   6.30000000e-01,   1.14000000e+00,\n",
       "          7.50000000e+00,   6.70000000e-01,   1.73000000e+00,\n",
       "          8.80000000e+02],\n",
       "       [  1.29600000e+01,   3.45000000e+00,   2.35000000e+00,\n",
       "          1.85000000e+01,   1.06000000e+02,   1.39000000e+00,\n",
       "          7.00000000e-01,   4.00000000e-01,   9.40000000e-01,\n",
       "          5.28000000e+00,   6.80000000e-01,   1.75000000e+00,\n",
       "          6.75000000e+02],\n",
       "       [  1.36200000e+01,   4.95000000e+00,   2.35000000e+00,\n",
       "          2.00000000e+01,   9.20000000e+01,   2.00000000e+00,\n",
       "          8.00000000e-01,   4.70000000e-01,   1.02000000e+00,\n",
       "          4.40000000e+00,   9.10000000e-01,   2.05000000e+00,\n",
       "          5.50000000e+02],\n",
       "       [  1.31600000e+01,   3.57000000e+00,   2.15000000e+00,\n",
       "          2.10000000e+01,   1.02000000e+02,   1.50000000e+00,\n",
       "          5.50000000e-01,   4.30000000e-01,   1.30000000e+00,\n",
       "          4.00000000e+00,   6.00000000e-01,   1.68000000e+00,\n",
       "          8.30000000e+02]])"
      ]
     },
     "execution_count": 17,
     "metadata": {},
     "output_type": "execute_result"
    }
   ],
   "source": [
    "poly_svc.support_vectors_ "
   ]
  },
  {
   "cell_type": "markdown",
   "metadata": {},
   "source": [
    "## SVC con kernel sigmoidal"
   ]
  },
  {
   "cell_type": "markdown",
   "metadata": {
    "collapsed": true
   },
   "source": [
    "Y por ultimo, usaremos un kernel sigmoidal. El cual esta definido como (tanh(gamma {x,x'} + r)), donde r esta definido como coef0 y tiene un valor por defecto de 0.0. Miremos que datos nos arroja este clasificador con este kernel."
   ]
  },
  {
   "cell_type": "code",
   "execution_count": 18,
   "metadata": {},
   "outputs": [
    {
     "name": "stdout",
     "output_type": "stream",
     "text": [
      "[1 1 1 1 1 1 1 1 1 1 1 1 1 1 1 1 1 1 1 1 1 1 1 1 1 1 1 1 1 1 1 1 1 1 1 1 1\n",
      " 1 1 1 1 1 1 1 1 1 1 1 1 1 1 1 1 1] [0 2 0 0 1 0 0 2 0 2 2 1 0 0 0 1 2 2 0 0 0 2 2 1 2 2 2 2 1 1 0 2 1 1 1 0 0\n",
      " 2 1 1 1 1 1 0 2 1 2 2 1 1 1 1 1 0]\n"
     ]
    }
   ],
   "source": [
    "sigmoid_svc = svm.SVC(kernel='sigmoid')\n",
    "sigmoid_svc.fit(X_train, t_train)\n",
    "t_pred = sigmoid_svc.predict(X_test)\n",
    "print t_pred, t_test"
   ]
  },
  {
   "cell_type": "markdown",
   "metadata": {},
   "source": [
    "La matriz de confusión nos dice lo siguiente:\n",
    "\n",
    "| Clase | Correcto | Incorrecto |\n",
    "|-------|----------|------------|\n",
    "| 1     |     18   |      0     |\n",
    "| 2     |    0    |     17      |\n",
    "| 3     |    0    |     19      |\n",
    "\n",
    "Correspondiendo esto a una efectividad del 3.15%"
   ]
  },
  {
   "cell_type": "code",
   "execution_count": 19,
   "metadata": {},
   "outputs": [
    {
     "data": {
      "text/plain": [
       "array([[ 0, 17,  0],\n",
       "       [ 0, 20,  0],\n",
       "       [ 0, 17,  0]], dtype=int64)"
      ]
     },
     "execution_count": 19,
     "metadata": {},
     "output_type": "execute_result"
    }
   ],
   "source": [
    "confusion_matrix(t_test, t_pred)"
   ]
  },
  {
   "cell_type": "code",
   "execution_count": 20,
   "metadata": {},
   "outputs": [
    {
     "data": {
      "text/plain": [
       "0.37037037037037035"
      ]
     },
     "execution_count": 20,
     "metadata": {},
     "output_type": "execute_result"
    }
   ],
   "source": [
    "accuracy_score(t_test, t_pred)"
   ]
  },
  {
   "cell_type": "markdown",
   "metadata": {},
   "source": [
    "Para terminar los vectores de soporte de la SVC "
   ]
  },
  {
   "cell_type": "code",
   "execution_count": 21,
   "metadata": {},
   "outputs": [
    {
     "data": {
      "text/plain": [
       "array([[  1.30500000e+01,   1.77000000e+00,   2.10000000e+00, ...,\n",
       "          8.80000000e-01,   3.35000000e+00,   8.85000000e+02],\n",
       "       [  1.35800000e+01,   1.66000000e+00,   2.36000000e+00, ...,\n",
       "          1.09000000e+00,   2.88000000e+00,   1.51500000e+03],\n",
       "       [  1.33900000e+01,   1.77000000e+00,   2.62000000e+00, ...,\n",
       "          9.20000000e-01,   3.22000000e+00,   1.19500000e+03],\n",
       "       ..., \n",
       "       [  1.33200000e+01,   3.24000000e+00,   2.38000000e+00, ...,\n",
       "          5.50000000e-01,   1.62000000e+00,   6.50000000e+02],\n",
       "       [  1.25800000e+01,   1.29000000e+00,   2.10000000e+00, ...,\n",
       "          5.80000000e-01,   1.55000000e+00,   6.40000000e+02],\n",
       "       [  1.31600000e+01,   3.57000000e+00,   2.15000000e+00, ...,\n",
       "          6.00000000e-01,   1.68000000e+00,   8.30000000e+02]])"
      ]
     },
     "execution_count": 21,
     "metadata": {},
     "output_type": "execute_result"
    }
   ],
   "source": [
    "sigmoid_svc.support_vectors_ "
   ]
  },
  {
   "cell_type": "markdown",
   "metadata": {
    "collapsed": true
   },
   "source": [
    "En conclusión tenemos que, para este dataset, es mejor las SVC con kernel lineal y polinomial, que tienen un resultado de efectividad de mas del 87%. Y que no funciona muy bien las SVC kernel rbf y sigmoidal."
   ]
  }
 ],
 "metadata": {
  "kernelspec": {
   "display_name": "Python 2",
   "language": "python",
   "name": "python2"
  },
  "language_info": {
   "codemirror_mode": {
    "name": "ipython",
    "version": 2
   },
   "file_extension": ".py",
   "mimetype": "text/x-python",
   "name": "python",
   "nbconvert_exporter": "python",
   "pygments_lexer": "ipython2",
   "version": "2.7.14"
  }
 },
 "nbformat": 4,
 "nbformat_minor": 2
}
